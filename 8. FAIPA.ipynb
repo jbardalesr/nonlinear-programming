{
 "cells": [
  {
   "cell_type": "code",
   "execution_count": 33,
   "metadata": {},
   "outputs": [],
   "source": [
    "import numpy as np\n",
    "import pandas as pd\n",
    "import numpy.linalg as la\n",
    "from scipy.linalg import solve_triangular\n",
    "from typing import Callable\n"
   ]
  },
  {
   "attachments": {},
   "cell_type": "markdown",
   "metadata": {},
   "source": [
    "### FAIPA"
   ]
  },
  {
   "cell_type": "code",
   "execution_count": 34,
   "metadata": {},
   "outputs": [],
   "source": [
    "def line_search(f: Callable, df: Callable, g: Callable, x: np.ndarray, eta: float, d: np.ndarray, d3: np.ndarray, bar_lambda: np.ndarray, nu: float, m: int):\n",
    "    \"\"\"\n",
    "    Line-Search\n",
    "    -----------\n",
    "    Compute t which is the step length, the first number of the sequence {1, v, v2, v3 ,...} that satisfying the following conditions\n",
    "\n",
    "    Parameters\n",
    "    ----------\n",
    "    eta in (0, 1)\n",
    "    d direction\n",
    "    bar_lambda lagrangian multiplier\n",
    "    nu  in (0, 1)\n",
    "\n",
    "    Return\n",
    "    ------\n",
    "    The step length\n",
    "    \"\"\"\n",
    "    t = 1\n",
    "    while True:\n",
    "        x_td = x + t * (d + t * d3)\n",
    "        if f(x_td) <= f(x) + t * eta * d.dot(df(x)):\n",
    "            g_x = g(x)\n",
    "            g_x_td = g(x_td)\n",
    "            if all((g_x_td[k] < 0 and bar_lambda[k] >= 0) or (g_x_td[k] <= g_x[k] and bar_lambda[k] < 0) for k in range(m)):\n",
    "                break\n",
    "        t = t * nu\n",
    "    return t\n"
   ]
  },
  {
   "attachments": {},
   "cell_type": "markdown",
   "metadata": {},
   "source": [
    "**Example**\n",
    "\n",
    "\\begin{align*}\n",
    "\\min_{\\mathbf x}\\quad&2x^2+y^2\\\\\n",
    "\\text{s.t}\\quad&4x^2+y^2-2 \\le 0\\\\ \n",
    "&4x+y+1\\le0\n",
    "\\end{align*}"
   ]
  },
  {
   "cell_type": "code",
   "execution_count": 35,
   "metadata": {},
   "outputs": [],
   "source": [
    "\n",
    "def FAIPA(f: Callable, df: Callable, g: Callable, dg: Callable, x: np.ndarray, tol: float, xi: float, eta: float, phi: float, nu: float, m: int, MAX_ITER=100):\n",
    "    lam = np.ones(m)\n",
    "    w = np.ones(m)\n",
    "    n = len(x)\n",
    "    iter = 0\n",
    "    t = 1\n",
    "    B = np.identity(n)\n",
    "    Z = np.diag(lam)\n",
    "    while iter < MAX_ITER:\n",
    "        g_gradient = dg(x)\n",
    "        f_gradient = df(x)\n",
    "        G = np.diag(g(x))\n",
    "        N = np.r_[np.c_[B, g_gradient],\n",
    "                  np.c_[Z @ g_gradient.T, G]]\n",
    "        Q, R = la.qr(N)\n",
    "        z1 = Q.T @ np.r_[-f_gradient,\n",
    "                         np.zeros(m)]\n",
    "        # solve system 1\n",
    "        x_1 = solve_triangular(R, z1)\n",
    "        d_a = x_1[:n]\n",
    "        lambda_a = x_1[n:]\n",
    "        error = la.norm(d_a)\n",
    "        if error < tol:\n",
    "            return x\n",
    "        z2 = Q.T @ np.r_[np.zeros(n),\n",
    "                         - Z @ w]\n",
    "        # solve system 2\n",
    "        x_2 = solve_triangular(R, z2)\n",
    "        d_b = x_2[:n]\n",
    "        lambda_b = x_2[n:]\n",
    "        a = phi * d_a.dot(d_a)\n",
    "        if (d2f_grad := d_b.dot(f_gradient)) > 0:\n",
    "            b = (xi - 1) * d_a.dot(f_gradient) / d2f_grad\n",
    "            rho = min(a, b)\n",
    "        else:\n",
    "            rho = a\n",
    "        d = d_a + rho * d_b\n",
    "        bar_lambda = lambda_a + rho * lambda_b\n",
    "        omega = f(x + d) - f(x) - d.dot(g_gradient)\n",
    "        z3 = Q.T @ np.r_[np.zeros(n),\n",
    "                         - Z @ omega]\n",
    "        # solve system 3\n",
    "        x_3 = solve_triangular(R, z3)\n",
    "        d_c = x_3[:n]\n",
    "        lambda_c = x_3[n:]\n",
    "        t = line_search(f, df, g, x, eta, d, d_c, bar_lambda, nu, m)\n",
    "        x = x + t * (d + t * d_c)\n",
    "        iter += 1\n",
    "        print(f\"{iter:2d} {t:1.10f} {x} {f(x):1.9f} {error:1.9f}\")\n"
   ]
  },
  {
   "cell_type": "code",
   "execution_count": 36,
   "metadata": {},
   "outputs": [
    {
     "name": "stdout",
     "output_type": "stream",
     "text": [
      " i step t[i]\tx[i]\t\t\t\tf(x[i])\t  error\n",
      " 1 0.7578000000 [-0.5668679556 -0.3226345383] 0.746771603 0.516189128\n",
      " 2 1.0000000000 [-0.5101415746 -0.0307644019] 0.521435301 0.246311045\n",
      " 3 1.0000000000 [-0.3777167447 -0.1405983144] 0.305107765 0.146985209\n",
      " 4 1.0000000000 [-0.2780588673 -0.1425685691] 0.174959264 0.062256766\n",
      " 5 1.0000000000 [-0.2472159319 -0.1180142308] 0.136158793 0.020291669\n",
      " 6 1.0000000000 [-0.2318944523 -0.1222740844] 0.122501026 0.010760202\n",
      " 7 1.0000000000 [-0.2292182509 -0.1079082327] 0.116726200 0.012886384\n",
      " 8 1.0000000000 [-0.2233680842 -0.1193070114] 0.114020765 0.012363752\n",
      " 9 1.0000000000 [-0.2256665587 -0.1044596482] 0.112762610 0.014615036\n",
      "10 1.0000000000 [-0.221106412  -0.1199784051] 0.112170909 0.015674865\n",
      "11 1.0000000000 [-0.2252787316 -0.1021940434] 0.111944636 0.017949427\n",
      "12 0.5742608400 [-0.2224492429 -0.1133566166] 0.111817054 0.019599082\n",
      "13 1.0000000000 [-0.2231115194 -0.1092024957] 0.111482685 0.004074222\n",
      "14 1.0000000000 [-0.2218350779 -0.1135584964] 0.111317136 0.004426439\n",
      "15 1.0000000000 [-0.2229949047 -0.1085597566] 0.111238676 0.005011017\n",
      "16 1.0000000000 [-0.2215752473 -0.1140750521] 0.111204298 0.005540941\n",
      "17 0.5742608400 [-0.2224479619 -0.1105598893] 0.111189681 0.006231371\n",
      "18 1.0000000000 [-0.2220975897 -0.1117928758] 0.111152326 0.001251623\n",
      "19 1.0000000000 [-0.2224285327 -0.1103853079] 0.111133821 0.001409792\n",
      "20 1.0000000000 [-0.2220293683 -0.1119411005] 0.111124891 0.001565920\n",
      "21 1.0000000000 [-0.2224607329 -0.1101970719] 0.111120950 0.001753496\n",
      "22 0.5742608400 [-0.222183887 -0.111301396] 0.111119360 0.001952658\n",
      "23 1.0000000000 [-0.2222783874 -0.1109056803] 0.111115433 0.000396574\n",
      "24 1.0000000000 [-0.2221665671 -0.1113441204] 0.111113480 0.000441348\n",
      "25 1.0000000000 [-0.2222882528 -0.1108530671] 0.111112537 0.000493472\n",
      "26 1.0000000000 [-0.2221509117 -0.1114004489] 0.111112115 0.000550296\n",
      "27 0.5742608400 [-0.2222376818 -0.1110530372] 0.111111952 0.000614769\n",
      "28 1.0000000000 [-0.222206327  -0.1111766495] 0.111111551 0.000124401\n",
      "29 1.0000000000 [-0.2222406823 -0.1110383265] 0.111111352 0.000139003\n",
      "30 1.0000000000 [-0.2222020116 -0.1111925691] 0.111111255 0.000155086\n",
      "31 1.0000000000 [-0.2222450256 -0.1110203102] 0.111111212 0.000173178\n",
      "32 0.5742608400 [-0.222217706  -0.1111295541] 0.111111196 0.000193269\n",
      "33 1.0000000000 [-0.2222274004 -0.1110905947] 0.111111155 0.000039154\n",
      "34 1.0000000000 [-0.2222165137 -0.111134051 ] 0.111111135 0.000043694\n",
      "35 1.0000000000 [-0.2222286343 -0.1110855245] 0.111111126 0.000048783\n",
      "36 1.0000000000 [-0.2222150887 -0.1111396862] 0.111111121 0.000054451\n",
      "37 0.7578000000 [-0.2222264738 -0.1110941406] 0.111111119 0.000060788\n",
      "38 1.0000000000 [-0.22221749   -0.1111300625] 0.111111117 0.000036114\n",
      "39 1.0000000000 [-0.222227514  -0.1110899609] 0.111111115 0.000040316\n",
      "40 0.4351748646 [-0.2222227117 -0.1111091695] 0.111111115 0.000045002\n"
     ]
    },
    {
     "data": {
      "text/plain": [
       "array([-0.2222227117, -0.1111091695])"
      ]
     },
     "execution_count": 36,
     "metadata": {},
     "output_type": "execute_result"
    }
   ],
   "source": [
    "f1 = lambda x: 2 * x[0]**2 + x[1]**2\n",
    "df1 = lambda x: np.array([4 * x[0], 2 * x[1]])\n",
    "g1 = lambda x: np.array([4 * x[0]**2 + x[1]**2 - 2,\n",
    "                        4 * x[0] + x[1] + 1])\n",
    "dg1 = lambda x: np.array([[8 * x[0], 2 * x[1]],\n",
    "                         [4, 1]]).T\n",
    "x_sol = [-2 / 9, -1 / 9]\n",
    "xi = 0.5\n",
    "eta = 0.5\n",
    "phi = 1.5\n",
    "nu = 0.7578\n",
    "x0 = [-1 / 3, -1]\n",
    "m = 2\n",
    "np.set_printoptions(precision=10, suppress=True, linewidth=np.nan)\n",
    "print(' i step t[i]\\tx[i]\\t\\t\\t\\tf(x[i])\\t  error')\n",
    "FAIPA(f1, df1, g1, dg1, x0, 1e-5, xi, eta, phi, nu, m)\n"
   ]
  },
  {
   "cell_type": "code",
   "execution_count": null,
   "metadata": {},
   "outputs": [],
   "source": []
  }
 ],
 "metadata": {
  "kernelspec": {
   "display_name": "Python 3",
   "language": "python",
   "name": "python3"
  },
  "language_info": {
   "codemirror_mode": {
    "name": "ipython",
    "version": 3
   },
   "file_extension": ".py",
   "mimetype": "text/x-python",
   "name": "python",
   "nbconvert_exporter": "python",
   "pygments_lexer": "ipython3",
   "version": "3.11.1"
  },
  "orig_nbformat": 4,
  "vscode": {
   "interpreter": {
    "hash": "ad0665b20a8e3f55a21bf4726f6eb7599e5e078c0d7c5bed50553642023e8e09"
   }
  }
 },
 "nbformat": 4,
 "nbformat_minor": 2
}
