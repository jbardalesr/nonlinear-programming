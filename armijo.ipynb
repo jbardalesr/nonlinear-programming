{
 "cells": [
  {
   "cell_type": "code",
   "execution_count": 52,
   "metadata": {},
   "outputs": [],
   "source": [
    "import numpy as np\n",
    "import matplotlib.pyplot as plt\n",
    "from typing import Callable\n"
   ]
  },
  {
   "cell_type": "code",
   "execution_count": 53,
   "metadata": {},
   "outputs": [],
   "source": [
    "def draw_contourf(interval: np.ndarray, z_points: np.ndarray, name: str, POINTS=50):\n",
    "    plt.contourf(interval, interval, z_points, POINTS)\n",
    "    plt.title(name)\n",
    "    plt.xlabel(\"X\")\n",
    "    plt.ylabel(\"Y\")\n",
    "    plt.colorbar()\n",
    "\n",
    "\n",
    "def fill_function(F: Callable, interval: np.ndarray, z_points: np.ndarray, POINTS=50):\n",
    "    for i, x in enumerate(interval):\n",
    "        for j, y in enumerate(interval):\n",
    "            z_points[j, i] = F([x, y])\n",
    "\n",
    "\n",
    "def draw_space(F: Callable, interval: np.ndarray, z_points: np.ndarray, name: str, view: tuple[float]):\n",
    "    plt.figure(figsize=(10, 10))\n",
    "    plt.suptitle(name)\n",
    "    ax = plt.axes(projection='3d')\n",
    "    ax.view_init(*view)\n",
    "    ax.set_xlabel(\"X\")\n",
    "    ax.set_ylabel(\"Y\")\n",
    "    ax.set_zlabel(\"Z\")\n",
    "    ax.plot_surface(interval, interval.T, z_points.T, edgecolor='none', cmap='bwr')\n"
   ]
  },
  {
   "cell_type": "code",
   "execution_count": 83,
   "metadata": {},
   "outputs": [],
   "source": [
    "def step_armijo(f, grad_f, x0, MAX_ITER=100):\n",
    "    # return step size alpha of armijo rule\n",
    "    alpha = 2  # initial, step size\n",
    "    theta = 0.5\n",
    "    sigma = 0.1\n",
    "    for _ in range(MAX_ITER):\n",
    "        d = -grad_f(x0)\n",
    "        print(_, alpha)\n",
    "        if f(x0 + alpha * d) <= f(x0) + sigma * alpha * np.dot(-d, d):\n",
    "            return alpha\n",
    "        alpha = theta * alpha\n",
    "\n",
    "\n",
    "def armijo(f, grad_f, x0, eps=1e-5, MAX_ITER=100):\n",
    "    for _ in range(MAX_ITER):\n",
    "        alpha = step_armijo(f, grad_f, x0)\n",
    "        d = -grad_f(x0)\n",
    "        x = x0 + alpha * d\n",
    "        if np.linalg.norm(d) < eps:\n",
    "            return x\n",
    "        x0 = x.copy()\n"
   ]
  },
  {
   "cell_type": "code",
   "execution_count": 10,
   "metadata": {},
   "outputs": [
    {
     "data": {
      "text/plain": [
       "-1.9999999999999996"
      ]
     },
     "execution_count": 10,
     "metadata": {},
     "output_type": "execute_result"
    }
   ],
   "source": [
    "mu = 0.5 * (137 / 5)**0.5\n",
    "lam = (5 + 4 * mu) / 9\n",
    "x1 = (-1 - lam) / (2 * mu)\n",
    "x2 = (4 - 2 * lam) / (2 * mu)\n",
    "x3 = (-1 - 2 * lam) / (2 * mu)\n",
    "\n",
    "x1 + 2 * x2 + 2 * x3\n"
   ]
  },
  {
   "cell_type": "code",
   "execution_count": 5,
   "metadata": {},
   "outputs": [
    {
     "data": {
      "text/latex": [
       "$\\displaystyle - \\frac{5}{9} + \\frac{137}{36 \\mu^{2}}$"
      ],
      "text/plain": [
       "-5/9 + 137/(36*\\mu**2)"
      ]
     },
     "execution_count": 5,
     "metadata": {},
     "output_type": "execute_result"
    }
   ],
   "source": [
    "import sympy as sp\n",
    "mu = sp.symbols(\"\\mu\")\n",
    "x1 = (-7 - 2 * mu) / (9 * mu)\n",
    "x2 = (13 - 4 * mu) / (9 * mu)\n",
    "x3 = (-19 - 8 * mu) / (18 * mu)\n",
    "\n",
    "sp.simplify(x1**2 + x2**2 + x3**2 - 1)\n"
   ]
  },
  {
   "cell_type": "code",
   "execution_count": 84,
   "metadata": {},
   "outputs": [
    {
     "name": "stdout",
     "output_type": "stream",
     "text": [
      "0 2\n",
      "1 1.0\n",
      "2 0.5\n",
      "0 2\n",
      "0 2\n",
      "0 2\n",
      "0 2\n",
      "0 2\n",
      "0 2\n",
      "0 2\n",
      "0 2\n",
      "0 2\n",
      "1 1.0\n",
      "2 0.5\n",
      "3 0.25\n",
      "4 0.125\n",
      "5 0.0625\n",
      "6 0.03125\n",
      "7 0.015625\n",
      "8 0.0078125\n",
      "9 0.00390625\n",
      "10 0.001953125\n",
      "11 0.0009765625\n",
      "12 0.00048828125\n",
      "13 0.000244140625\n",
      "14 0.0001220703125\n",
      "15 6.103515625e-05\n",
      "16 3.0517578125e-05\n",
      "17 1.52587890625e-05\n",
      "18 7.62939453125e-06\n",
      "19 3.814697265625e-06\n",
      "20 1.9073486328125e-06\n",
      "21 9.5367431640625e-07\n",
      "22 4.76837158203125e-07\n",
      "23 2.384185791015625e-07\n",
      "24 1.1920928955078125e-07\n",
      "25 5.960464477539063e-08\n",
      "26 2.9802322387695312e-08\n",
      "27 1.4901161193847656e-08\n",
      "28 7.450580596923828e-09\n",
      "29 3.725290298461914e-09\n",
      "30 1.862645149230957e-09\n",
      "31 9.313225746154785e-10\n",
      "32 4.656612873077393e-10\n",
      "33 2.3283064365386963e-10\n",
      "34 1.1641532182693481e-10\n",
      "35 5.820766091346741e-11\n",
      "36 2.9103830456733704e-11\n",
      "37 1.4551915228366852e-11\n",
      "38 7.275957614183426e-12\n",
      "39 3.637978807091713e-12\n",
      "40 1.8189894035458565e-12\n",
      "41 9.094947017729282e-13\n",
      "42 4.547473508864641e-13\n",
      "43 2.2737367544323206e-13\n",
      "44 1.1368683772161603e-13\n",
      "45 5.684341886080802e-14\n",
      "46 2.842170943040401e-14\n",
      "47 1.4210854715202004e-14\n",
      "48 7.105427357601002e-15\n",
      "49 3.552713678800501e-15\n",
      "50 1.7763568394002505e-15\n",
      "51 8.881784197001252e-16\n",
      "52 4.440892098500626e-16\n",
      "53 2.220446049250313e-16\n",
      "54 1.1102230246251565e-16\n",
      "55 5.551115123125783e-17\n",
      "56 2.7755575615628914e-17\n",
      "57 1.3877787807814457e-17\n",
      "58 6.938893903907228e-18\n",
      "59 3.469446951953614e-18\n",
      "60 1.734723475976807e-18\n",
      "61 8.673617379884035e-19\n",
      "62 4.336808689942018e-19\n",
      "63 2.168404344971009e-19\n",
      "64 1.0842021724855044e-19\n",
      "65 5.421010862427522e-20\n",
      "66 2.710505431213761e-20\n",
      "67 1.3552527156068805e-20\n",
      "68 6.776263578034403e-21\n",
      "69 3.3881317890172014e-21\n",
      "70 1.6940658945086007e-21\n",
      "71 8.470329472543003e-22\n",
      "72 4.235164736271502e-22\n",
      "73 2.117582368135751e-22\n",
      "74 1.0587911840678754e-22\n",
      "75 5.293955920339377e-23\n",
      "76 2.6469779601696886e-23\n",
      "77 1.3234889800848443e-23\n",
      "78 6.617444900424222e-24\n",
      "79 3.308722450212111e-24\n",
      "80 1.6543612251060553e-24\n",
      "81 8.271806125530277e-25\n",
      "82 4.1359030627651384e-25\n",
      "83 2.0679515313825692e-25\n",
      "84 1.0339757656912846e-25\n",
      "85 5.169878828456423e-26\n",
      "86 2.5849394142282115e-26\n",
      "87 1.2924697071141057e-26\n",
      "88 6.462348535570529e-27\n",
      "89 3.2311742677852644e-27\n",
      "90 1.6155871338926322e-27\n",
      "91 8.077935669463161e-28\n",
      "92 4.0389678347315804e-28\n",
      "93 2.0194839173657902e-28\n",
      "94 1.0097419586828951e-28\n",
      "95 5.048709793414476e-29\n",
      "96 2.524354896707238e-29\n",
      "97 1.262177448353619e-29\n",
      "98 6.310887241768095e-30\n",
      "99 3.1554436208840472e-30\n"
     ]
    },
    {
     "name": "stderr",
     "output_type": "stream",
     "text": [
      "C:\\Users\\jbard\\AppData\\Local\\Temp\\ipykernel_20212\\1232359264.py:4: RuntimeWarning: overflow encountered in double_scalars\n",
      "  f = lambda x: 3 * x[0] - x[0]**3 - 2 * x[1]**2 + x[1]**4\n",
      "C:\\Users\\jbard\\AppData\\Local\\Temp\\ipykernel_20212\\1232359264.py:5: RuntimeWarning: overflow encountered in double_scalars\n",
      "  grad_f = lambda x: np.array([3 - 3 * x[0]**2, -4 * x[1] + 4 * x[1]**3])\n",
      "C:\\Users\\jbard\\AppData\\Local\\Temp\\ipykernel_20212\\1232359264.py:4: RuntimeWarning: invalid value encountered in double_scalars\n",
      "  f = lambda x: 3 * x[0] - x[0]**3 - 2 * x[1]**2 + x[1]**4\n"
     ]
    },
    {
     "ename": "TypeError",
     "evalue": "unsupported operand type(s) for *: 'NoneType' and 'float'",
     "output_type": "error",
     "traceback": [
      "\u001b[1;31m---------------------------------------------------------------------------\u001b[0m",
      "\u001b[1;31mTypeError\u001b[0m                                 Traceback (most recent call last)",
      "Cell \u001b[1;32mIn [84], line 11\u001b[0m\n\u001b[0;32m      7\u001b[0m \u001b[39m# fill_function(f, interval_1, z_points_1)\u001b[39;00m\n\u001b[0;32m      8\u001b[0m \n\u001b[0;32m      9\u001b[0m \u001b[39m# draw_contourf(interval_1, z_points_1, \"f(x)\")\u001b[39;00m\n\u001b[0;32m     10\u001b[0m x0 \u001b[39m=\u001b[39m [\u001b[39m-\u001b[39m\u001b[39m0.0\u001b[39m, \u001b[39m1\u001b[39m]\n\u001b[1;32m---> 11\u001b[0m armijo(f, grad_f, x0)\n",
      "Cell \u001b[1;32mIn [83], line 18\u001b[0m, in \u001b[0;36marmijo\u001b[1;34m(f, grad_f, x0, eps, MAX_ITER)\u001b[0m\n\u001b[0;32m     16\u001b[0m alpha \u001b[39m=\u001b[39m step_armijo(f, grad_f, x0)\n\u001b[0;32m     17\u001b[0m d \u001b[39m=\u001b[39m \u001b[39m-\u001b[39mgrad_f(x0)\n\u001b[1;32m---> 18\u001b[0m x \u001b[39m=\u001b[39m x0 \u001b[39m+\u001b[39m alpha \u001b[39m*\u001b[39;49m d\n\u001b[0;32m     19\u001b[0m \u001b[39mif\u001b[39;00m np\u001b[39m.\u001b[39mlinalg\u001b[39m.\u001b[39mnorm(d) \u001b[39m<\u001b[39m eps:\n\u001b[0;32m     20\u001b[0m     \u001b[39mreturn\u001b[39;00m x\n",
      "\u001b[1;31mTypeError\u001b[0m: unsupported operand type(s) for *: 'NoneType' and 'float'"
     ]
    }
   ],
   "source": [
    "# interval_1 = np.linspace(-1.5, 1.5, 100)\n",
    "# z_points_1 = np.zeros((100, 100))\n",
    "\n",
    "f = lambda x: 3 * x[0] - x[0]**3 - 2 * x[1]**2 + x[1]**4\n",
    "grad_f = lambda x: np.array([3 - 3 * x[0]**2, -4 * x[1] + 4 * x[1]**3])\n",
    "\n",
    "# fill_function(f, interval_1, z_points_1)\n",
    "\n",
    "# draw_contourf(interval_1, z_points_1, \"f(x)\")\n",
    "x0 = [-0.0, 1]\n",
    "armijo(f, grad_f, x0)\n"
   ]
  },
  {
   "cell_type": "code",
   "execution_count": null,
   "metadata": {},
   "outputs": [],
   "source": []
  }
 ],
 "metadata": {
  "kernelspec": {
   "display_name": "Python 3.10.8 64-bit",
   "language": "python",
   "name": "python3"
  },
  "language_info": {
   "codemirror_mode": {
    "name": "ipython",
    "version": 3
   },
   "file_extension": ".py",
   "mimetype": "text/x-python",
   "name": "python",
   "nbconvert_exporter": "python",
   "pygments_lexer": "ipython3",
   "version": "3.10.8"
  },
  "orig_nbformat": 4,
  "vscode": {
   "interpreter": {
    "hash": "590f4a299ae404e723bbc5f32e9a7b98b836c3c65ce9112bc934ac92a06ceee3"
   }
  }
 },
 "nbformat": 4,
 "nbformat_minor": 2
}
