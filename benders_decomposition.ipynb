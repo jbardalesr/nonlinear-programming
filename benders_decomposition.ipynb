{
 "cells": [
  {
   "attachments": {},
   "cell_type": "markdown",
   "metadata": {},
   "source": [
    "[Benders decomposition](https://jump.dev/JuMP.jl/stable/tutorials/algorithms/benders_decomposition/)"
   ]
  },
  {
   "cell_type": "markdown",
   "metadata": {},
   "source": []
  }
 ],
 "metadata": {
  "kernelspec": {
   "display_name": "Python 3",
   "language": "python",
   "name": "python3"
  },
  "language_info": {
   "name": "python",
   "version": "3.11.1 (tags/v3.11.1:a7a450f, Dec  6 2022, 19:58:39) [MSC v.1934 64 bit (AMD64)]"
  },
  "orig_nbformat": 4,
  "vscode": {
   "interpreter": {
    "hash": "ad0665b20a8e3f55a21bf4726f6eb7599e5e078c0d7c5bed50553642023e8e09"
   }
  }
 },
 "nbformat": 4,
 "nbformat_minor": 2
}
