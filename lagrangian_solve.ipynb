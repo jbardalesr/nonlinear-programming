{
 "cells": [
  {
   "cell_type": "code",
   "execution_count": 134,
   "metadata": {},
   "outputs": [],
   "source": [
    "import sympy as sp\n",
    "from IPython.display import display_latex, display, Latex\n",
    "\n",
    "\n",
    "def pretty_print(text: str):\n",
    "    return display_latex(Latex(text))\n"
   ]
  },
  {
   "cell_type": "code",
   "execution_count": 135,
   "metadata": {},
   "outputs": [
    {
     "name": "stdout",
     "output_type": "stream",
     "text": [
      "Funciones\n"
     ]
    },
    {
     "data": {
      "text/latex": [
       "$f(\\mathbf x) = \\left(x_{1} - 2\\right)^{2} + \\left(x_{2} - 1\\right)^{2}$"
      ]
     },
     "metadata": {},
     "output_type": "display_data"
    },
    {
     "data": {
      "text/latex": [
       "$g_1(\\mathbf x) = x_{1}^{2} - x_{2}$"
      ]
     },
     "metadata": {},
     "output_type": "display_data"
    },
    {
     "data": {
      "text/latex": [
       "$g_2(\\mathbf x) = x_{1}^{2} + x_{2}^{2} - 2$"
      ]
     },
     "metadata": {},
     "output_type": "display_data"
    },
    {
     "name": "stdout",
     "output_type": "stream",
     "text": [
      "Gradientes\n"
     ]
    },
    {
     "data": {
      "text/latex": [
       "$\\nabla f(\\mathbf x) = \\left[\\begin{matrix}2 x_{1} - 4\\\\2 x_{2} - 2\\end{matrix}\\right]$"
      ]
     },
     "metadata": {},
     "output_type": "display_data"
    },
    {
     "data": {
      "text/latex": [
       "$\\nabla g_1(\\mathbf x) = \\left[\\begin{matrix}2 x_{1}\\\\-1\\end{matrix}\\right]$"
      ]
     },
     "metadata": {},
     "output_type": "display_data"
    },
    {
     "data": {
      "text/latex": [
       "$\\nabla  g_2(\\mathbf x) = \\left[\\begin{matrix}2 x_{1}\\\\2 x_{2}\\end{matrix}\\right]$"
      ]
     },
     "metadata": {},
     "output_type": "display_data"
    },
    {
     "name": "stdout",
     "output_type": "stream",
     "text": [
      "Hessianos\n"
     ]
    },
    {
     "data": {
      "text/latex": [
       "$\\nabla^2 f(\\mathbf x) = \\left[\\begin{matrix}2 & 0\\\\0 & 2\\end{matrix}\\right]$"
      ]
     },
     "metadata": {},
     "output_type": "display_data"
    },
    {
     "data": {
      "text/latex": [
       "$\\nabla^2 g_1(\\mathbf x) = \\left[\\begin{matrix}2 & 0\\\\0 & 0\\end{matrix}\\right]$"
      ]
     },
     "metadata": {},
     "output_type": "display_data"
    },
    {
     "data": {
      "text/latex": [
       "$\\nabla^2  g_2(\\mathbf x) = \\left[\\begin{matrix}2 & 0\\\\0 & 2\\end{matrix}\\right]$"
      ]
     },
     "metadata": {},
     "output_type": "display_data"
    }
   ],
   "source": [
    "x1, x2, u1, u2 = sp.symbols('x1 x2 u1 u2')\n",
    "\n",
    "\n",
    "f = (x1 - 2)**2 + (x2 - 1)**2\n",
    "g1 = x1**2 - x2\n",
    "g2 = x1**2 + x2**2 - 2\n",
    "\n",
    "print(\"Funciones\")\n",
    "pretty_print(f\"$f(\\mathbf x) = {sp.latex(f)}$\")\n",
    "pretty_print(f\"$g_1(\\mathbf x) = {sp.latex(g1)}$\")\n",
    "pretty_print(f\"$g_2(\\mathbf x) = {sp.latex(g2)}$\")\n",
    "\n",
    "df = sp.Matrix([f]).jacobian((x1, x2)).T\n",
    "dg1 = sp.Matrix([g1]).jacobian((x1, x2)).T\n",
    "dg2 = sp.Matrix([g2]).jacobian((x1, x2)).T\n",
    "\n",
    "print(\"Gradientes\")\n",
    "pretty_print(f\"$\\\\nabla f(\\mathbf x) = {sp.latex(df)}$\")\n",
    "pretty_print(f\"$\\\\nabla g_1(\\mathbf x) = {sp.latex(dg1)}$\")\n",
    "pretty_print(f\"$\\\\nabla  g_2(\\mathbf x) = {sp.latex(dg2)}$\")\n",
    "\n",
    "ddf = sp.hessian(f, (x1, x2))\n",
    "ddg1 = sp.hessian(g1, (x1, x2))\n",
    "ddg2 = sp.hessian(g2, (x1, x2))\n",
    "\n",
    "print(\"Hessianos\")\n",
    "pretty_print(f\"$\\\\nabla^2 f(\\mathbf x) = {sp.latex(ddf)}$\")\n",
    "pretty_print(f\"$\\\\nabla^2 g_1(\\mathbf x) = {sp.latex(ddg1)}$\")\n",
    "pretty_print(f\"$\\\\nabla^2  g_2(\\mathbf x) = {sp.latex(ddg2)}$\")\n"
   ]
  },
  {
   "cell_type": "code",
   "execution_count": 136,
   "metadata": {},
   "outputs": [
    {
     "name": "stdout",
     "output_type": "stream",
     "text": [
      "Lagrangiano\n"
     ]
    },
    {
     "data": {
      "text/latex": [
       "$\\displaystyle \\left[\\begin{matrix}2 u_{1} x_{1} + 2 u_{2} x_{1} + 2 x_{1} - 4\\\\- u_{1} + 2 u_{2} x_{2} + 2 x_{2} - 2\\end{matrix}\\right]$"
      ],
      "text/plain": [
       "Matrix([\n",
       "[2*u1*x1 + 2*u2*x1 + 2*x1 - 4],\n",
       "[    -u1 + 2*u2*x2 + 2*x2 - 2]])"
      ]
     },
     "execution_count": 136,
     "metadata": {},
     "output_type": "execute_result"
    }
   ],
   "source": [
    "print(\"Lagrangiano\")\n",
    "L = f + u1 * g1 + u2 * g2\n",
    "dL = df + u1 * dg1 + u2 * dg2\n",
    "dL"
   ]
  },
  {
   "cell_type": "code",
   "execution_count": 137,
   "metadata": {},
   "outputs": [
    {
     "name": "stdout",
     "output_type": "stream",
     "text": [
      "Despejando las variables en función de los multiplicadores\n"
     ]
    },
    {
     "data": {
      "text/latex": [
       "$\\displaystyle 2 \\left(x_{1} \\left(u_{1} + u_{2} + 1\\right) - 2\\right)$"
      ],
      "text/plain": [
       "2*(x1*(u1 + u2 + 1) - 2)"
      ]
     },
     "metadata": {},
     "output_type": "display_data"
    },
    {
     "data": {
      "text/latex": [
       "$\\displaystyle - u_{1} + x_{2} \\cdot \\left(2 u_{2} + 2\\right) - 2$"
      ],
      "text/plain": [
       "-u1 + x2*(2*u2 + 2) - 2"
      ]
     },
     "metadata": {},
     "output_type": "display_data"
    }
   ],
   "source": [
    "print(\"Despejando las variables en función de los multiplicadores\")\n",
    "display(sp.factor(dL[0], x1))\n",
    "display(sp.factor(dL[1], x2))"
   ]
  },
  {
   "cell_type": "code",
   "execution_count": 138,
   "metadata": {},
   "outputs": [
    {
     "data": {
      "text/latex": [
       "$\\displaystyle \\frac{u_{1} + 2}{2 u_{2} + 2}$"
      ],
      "text/plain": [
       "(u1 + 2)/(2*u2 + 2)"
      ]
     },
     "execution_count": 138,
     "metadata": {},
     "output_type": "execute_result"
    }
   ],
   "source": [
    "x1_multiplicador = 2 / (1 + u1 + u2)\n",
    "x2_multiplicador = (2 + u1) / (2 + 2 * u2)\n",
    "x2_multiplicador\n"
   ]
  },
  {
   "cell_type": "code",
   "execution_count": 139,
   "metadata": {},
   "outputs": [],
   "source": [
    "def cases(u1_val, u2_val):\n",
    "    x1_val = x1_multiplicador.subs({u1: u1_val, u2: u2_val})\n",
    "    x2_val = x2_multiplicador.subs({u1: u1_val, u2: u2_val})\n",
    "    return x1_val, x2_val"
   ]
  },
  {
   "cell_type": "code",
   "execution_count": 140,
   "metadata": {},
   "outputs": [
    {
     "name": "stdout",
     "output_type": "stream",
     "text": [
      "Caso 1, u1=0, u2=0\n"
     ]
    },
    {
     "data": {
      "text/latex": [
       "$x_1=2, x_2=1$"
      ]
     },
     "metadata": {},
     "output_type": "display_data"
    },
    {
     "name": "stdout",
     "output_type": "stream",
     "text": [
      "No cumple g1<=0\n"
     ]
    },
    {
     "data": {
      "text/latex": [
       "$\\displaystyle 3$"
      ],
      "text/plain": [
       "3"
      ]
     },
     "metadata": {},
     "output_type": "display_data"
    }
   ],
   "source": [
    "print(\"Caso 1, u1=0, u2=0\")\n",
    "x1_caso1, x2_caso1 = cases(0, 0)\n",
    "pretty_print(f\"$x_1={x1_caso1}, x_2={x2_caso1}$\")\n",
    "print(\"No cumple g1<=0\")\n",
    "display(g1.subs({x1: x1_caso1, x2: x2_caso1}))\n"
   ]
  },
  {
   "cell_type": "code",
   "execution_count": 141,
   "metadata": {},
   "outputs": [
    {
     "name": "stdout",
     "output_type": "stream",
     "text": [
      "Caso 2, u1=0, u2 not 0\n"
     ]
    },
    {
     "data": {
      "text/latex": [
       "$x_1=\\frac{2}{u_{2} + 1}, x_2=\\frac{2}{2 u_{2} + 2}$"
      ]
     },
     "metadata": {},
     "output_type": "display_data"
    },
    {
     "data": {
      "text/latex": [
       "$\\displaystyle -2 + \\frac{4}{\\left(2 u_{2} + 2\\right)^{2}} + \\frac{4}{\\left(u_{2} + 1\\right)^{2}}$"
      ],
      "text/plain": [
       "-2 + 4/(2*u2 + 2)**2 + 4/(u2 + 1)**2"
      ]
     },
     "metadata": {},
     "output_type": "display_data"
    },
    {
     "name": "stdout",
     "output_type": "stream",
     "text": [
      "Solutions for u2 = \n"
     ]
    },
    {
     "data": {
      "text/plain": [
       "[-1 + sqrt(10)/2, -sqrt(10)/2 - 1]"
      ]
     },
     "metadata": {},
     "output_type": "display_data"
    },
    {
     "name": "stdout",
     "output_type": "stream",
     "text": [
      "Replace u2 in vars x\n"
     ]
    },
    {
     "data": {
      "text/latex": [
       "$x_1=\\frac{2 \\sqrt{10}}{5}, x_2=\\frac{\\sqrt{10}}{5}$"
      ]
     },
     "metadata": {},
     "output_type": "display_data"
    }
   ],
   "source": [
    "print(\"Caso 2, u1=0, u2 not 0\")\n",
    "x1_caso2, x2_caso2 = cases(0, u2)\n",
    "pretty_print(f\"$x_1={sp.latex(x1_caso2)}, x_2={sp.latex(x2_caso2)}$\")\n",
    "display(g2.subs({x1: x1_caso2, x2: x2_caso2}))\n",
    "\n",
    "print(\"Solutions for u2 = \")\n",
    "sol2 = sp.solve(g2.subs({x1: x1_caso2, x2: x2_caso2}), u2)\n",
    "display(sol2)\n",
    "\n",
    "print(\"Replace u2 in vars x\")\n",
    "x1_val = x1_multiplicador.subs({u1: 0, u2: sol2[0]})\n",
    "x2_val = x2_multiplicador.subs({u1: 0, u2: sol2[0]})\n",
    "pretty_print(f\"$x_1={sp.latex(x1_val)}, x_2={sp.latex(x2_val)}$\")\n"
   ]
  },
  {
   "cell_type": "code",
   "execution_count": 142,
   "metadata": {},
   "outputs": [
    {
     "name": "stdout",
     "output_type": "stream",
     "text": [
      "Caso 3, u1 not 0, u2 = 0\n"
     ]
    },
    {
     "data": {
      "text/latex": [
       "$x_1=\\frac{2}{u_{1} + 1}, x_2=\\frac{u_{1}}{2} + 1$"
      ]
     },
     "metadata": {},
     "output_type": "display_data"
    },
    {
     "name": "stdout",
     "output_type": "stream",
     "text": [
      "Caso 4, u1 not 0, u2 not 0\n"
     ]
    },
    {
     "data": {
      "text/latex": [
       "$x_1=\\frac{2}{u_{1} + u_{2} + 1}, x_2=\\frac{u_{1} + 2}{2 u_{2} + 2}$"
      ]
     },
     "metadata": {},
     "output_type": "display_data"
    }
   ],
   "source": [
    "print(\"Caso 3, u1 not 0, u2 = 0\")\n",
    "x1_caso3, x2_caso3 = cases(u1, 0)\n",
    "pretty_print(f\"$x_1={sp.latex(x1_caso3)}, x_2={sp.latex(x2_caso3)}$\")\n",
    "\n",
    "print(\"Caso 4, u1 not 0, u2 not 0\")\n",
    "pretty_print(f\"$x_1={sp.latex(x1_multiplicador)}, x_2={sp.latex(x2_multiplicador)}$\")"
   ]
  },
  {
   "cell_type": "code",
   "execution_count": 143,
   "metadata": {},
   "outputs": [
    {
     "name": "stdout",
     "output_type": "stream",
     "text": [
      "Caso 3, u1 not 0, u2 = 0\n"
     ]
    },
    {
     "data": {
      "text/latex": [
       "$x_1=\\frac{2}{u_{1} + 1}, x_2=\\frac{u_{1}}{2} + 1$"
      ]
     },
     "metadata": {},
     "output_type": "display_data"
    },
    {
     "data": {
      "text/latex": [
       "$\\displaystyle \\left(\\frac{u_{1}}{2} + 1\\right)^{2} - 2 + \\frac{4}{\\left(u_{1} + 1\\right)^{2}}$"
      ],
      "text/plain": [
       "(u1/2 + 1)**2 - 2 + 4/(u1 + 1)**2"
      ]
     },
     "metadata": {},
     "output_type": "display_data"
    },
    {
     "name": "stdout",
     "output_type": "stream",
     "text": [
      "Solutions for u1 = \n"
     ]
    },
    {
     "data": {
      "text/latex": [
       "$\\displaystyle - \\frac{4}{3} + \\frac{1}{9 \\sqrt[3]{\\frac{2 \\sqrt{318}}{9} + \\frac{107}{27}}} + \\sqrt[3]{\\frac{2 \\sqrt{318}}{9} + \\frac{107}{27}}$"
      ],
      "text/plain": [
       "-4/3 + 1/(9*(2*sqrt(318)/9 + 107/27)**(1/3)) + (2*sqrt(318)/9 + 107/27)**(1/3)"
      ]
     },
     "metadata": {},
     "output_type": "display_data"
    },
    {
     "name": "stdout",
     "output_type": "stream",
     "text": [
      "Replace u1 in vars x\n"
     ]
    },
    {
     "data": {
      "text/latex": [
       "$x_1=1.16537304306241, x_2=1.35809432949655$"
      ]
     },
     "metadata": {},
     "output_type": "display_data"
    }
   ],
   "source": [
    "print(\"Caso 3, u1 not 0, u2 = 0\")\n",
    "x1_caso3, x2_caso3 = cases(u1, 0)\n",
    "pretty_print(f\"$x_1={sp.latex(x1_caso3)}, x_2={sp.latex(x2_caso3)}$\")\n",
    "display(g2.subs({x1: x1_caso3, x2: x2_caso3}))\n",
    "\n",
    "print(\"Solutions for u1 = \")\n",
    "sol3 = sp.solve(g1.subs({x1: x1_caso3, x2: x2_caso3}), u1)\n",
    "display(sol3[2])\n",
    "\n",
    "print(\"Replace u1 in vars x\")\n",
    "x1_val = x1_multiplicador.subs({u1: sol3[2], u2: 0}).evalf()\n",
    "x2_val = x2_multiplicador.subs({u1: sol3[2], u2: 0}).evalf()\n",
    "pretty_print(f\"$x_1={sp.latex(x1_val)}, x_2={sp.latex(x2_val)}$\")\n"
   ]
  },
  {
   "cell_type": "code",
   "execution_count": 144,
   "metadata": {},
   "outputs": [
    {
     "name": "stdout",
     "output_type": "stream",
     "text": [
      "Caso 4, u1 not 0, u2 not 0\n"
     ]
    },
    {
     "data": {
      "text/latex": [
       "$x_1=\\frac{2}{u_{1} + u_{2} + 1}, x_2=\\frac{u_{1} + 2}{2 u_{2} + 2}$"
      ]
     },
     "metadata": {},
     "output_type": "display_data"
    },
    {
     "data": {
      "text/latex": [
       "$\\displaystyle - \\frac{u_{1} + 2}{2 u_{2} + 2} + \\frac{4}{\\left(u_{1} + u_{2} + 1\\right)^{2}}$"
      ],
      "text/plain": [
       "-(u1 + 2)/(2*u2 + 2) + 4/(u1 + u2 + 1)**2"
      ]
     },
     "metadata": {},
     "output_type": "display_data"
    },
    {
     "data": {
      "text/latex": [
       "$\\displaystyle \\frac{\\left(u_{1} + 2\\right)^{2}}{\\left(2 u_{2} + 2\\right)^{2}} - 2 + \\frac{4}{\\left(u_{1} + u_{2} + 1\\right)^{2}}$"
      ],
      "text/plain": [
       "(u1 + 2)**2/(2*u2 + 2)**2 - 2 + 4/(u1 + u2 + 1)**2"
      ]
     },
     "metadata": {},
     "output_type": "display_data"
    }
   ],
   "source": [
    "print(\"Caso 4, u1 not 0, u2 not 0\")\n",
    "pretty_print(f\"$x_1={sp.latex(x1_multiplicador)}, x_2={sp.latex(x2_multiplicador)}$\")\n",
    "display(g1.subs({x1: x1_multiplicador, x2: x2_multiplicador}))\n",
    "display(g2.subs({x1: x1_multiplicador, x2: x2_multiplicador}))\n"
   ]
  },
  {
   "cell_type": "code",
   "execution_count": 145,
   "metadata": {},
   "outputs": [
    {
     "name": "stdout",
     "output_type": "stream",
     "text": [
      "Funciones\n"
     ]
    },
    {
     "data": {
      "text/latex": [
       "$f(\\mathbf x) = x_{1}^{2} + 2 x_{1} x_{2} - 3 x_{1} + 2 x_{2}^{2} + x_{2}$"
      ]
     },
     "metadata": {},
     "output_type": "display_data"
    },
    {
     "data": {
      "text/latex": [
       "$g_1(\\mathbf x) = - x_{1}$"
      ]
     },
     "metadata": {},
     "output_type": "display_data"
    },
    {
     "data": {
      "text/latex": [
       "$g_2(\\mathbf x) = - x_{2}$"
      ]
     },
     "metadata": {},
     "output_type": "display_data"
    },
    {
     "data": {
      "text/latex": [
       "$h(\\mathbf x) = x_{1} + x_{2} - 1$"
      ]
     },
     "metadata": {},
     "output_type": "display_data"
    },
    {
     "name": "stdout",
     "output_type": "stream",
     "text": [
      "Gradientes\n"
     ]
    },
    {
     "data": {
      "text/latex": [
       "$\\nabla f(\\mathbf x) = \\left[\\begin{matrix}2 x_{1} + 2 x_{2} - 3\\\\2 x_{1} + 4 x_{2} + 1\\end{matrix}\\right]$"
      ]
     },
     "metadata": {},
     "output_type": "display_data"
    },
    {
     "data": {
      "text/latex": [
       "$\\nabla g_1(\\mathbf x) = \\left[\\begin{matrix}-1\\\\0\\end{matrix}\\right]$"
      ]
     },
     "metadata": {},
     "output_type": "display_data"
    },
    {
     "data": {
      "text/latex": [
       "$\\nabla  g_2(\\mathbf x) = \\left[\\begin{matrix}0\\\\-1\\end{matrix}\\right]$"
      ]
     },
     "metadata": {},
     "output_type": "display_data"
    },
    {
     "data": {
      "text/latex": [
       "$\\nabla  h(\\mathbf x) = x_{1} + x_{2} - 1$"
      ]
     },
     "metadata": {},
     "output_type": "display_data"
    }
   ],
   "source": [
    "x1, x2, u1, u2, lam = sp.symbols('x1 x2 u1 u2 \\lambda')\n",
    "\n",
    "\n",
    "f = x1**2 + 2 * x1 * x2 + 2 * x2**2 - 3 * x1 + x2\n",
    "g1 = -x1\n",
    "g2 = -x2\n",
    "h = x1 + x2 - 1\n",
    "\n",
    "print(\"Funciones\")\n",
    "pretty_print(f\"$f(\\mathbf x) = {sp.latex(f)}$\")\n",
    "pretty_print(f\"$g_1(\\mathbf x) = {sp.latex(g1)}$\")\n",
    "pretty_print(f\"$g_2(\\mathbf x) = {sp.latex(g2)}$\")\n",
    "pretty_print(f\"$h(\\mathbf x) = {sp.latex(h)}$\")\n",
    "\n",
    "df = sp.Matrix([f]).jacobian((x1, x2)).T\n",
    "dg1 = sp.Matrix([g1]).jacobian((x1, x2)).T\n",
    "dg2 = sp.Matrix([g2]).jacobian((x1, x2)).T\n",
    "dh = sp.Matrix([h]).jacobian((x1, x2)).T\n",
    "\n",
    "print(\"Gradientes\")\n",
    "pretty_print(f\"$\\\\nabla f(\\mathbf x) = {sp.latex(df)}$\")\n",
    "pretty_print(f\"$\\\\nabla g_1(\\mathbf x) = {sp.latex(dg1)}$\")\n",
    "pretty_print(f\"$\\\\nabla  g_2(\\mathbf x) = {sp.latex(dg2)}$\")\n",
    "pretty_print(f\"$\\\\nabla  h(\\mathbf x) = {sp.latex(h)}$\")\n"
   ]
  },
  {
   "cell_type": "code",
   "execution_count": 146,
   "metadata": {},
   "outputs": [
    {
     "name": "stdout",
     "output_type": "stream",
     "text": [
      "Lagrangiano\n"
     ]
    },
    {
     "data": {
      "text/latex": [
       "$\\displaystyle \\lambda \\left(x_{1} + x_{2} - 1\\right) - u_{1} x_{1} - u_{2} x_{2} + x_{1}^{2} + 2 x_{1} x_{2} - 3 x_{1} + 2 x_{2}^{2} + x_{2}$"
      ],
      "text/plain": [
       "\\lambda*(x1 + x2 - 1) - u1*x1 - u2*x2 + x1**2 + 2*x1*x2 - 3*x1 + 2*x2**2 + x2"
      ]
     },
     "metadata": {},
     "output_type": "display_data"
    },
    {
     "data": {
      "text/latex": [
       "$\\displaystyle \\left[\\begin{matrix}\\lambda - u_{1} + 2 x_{1} + 2 x_{2} - 3\\\\\\lambda - u_{2} + 2 x_{1} + 4 x_{2} + 1\\end{matrix}\\right]$"
      ],
      "text/plain": [
       "Matrix([\n",
       "[\\lambda - u1 + 2*x1 + 2*x2 - 3],\n",
       "[\\lambda - u2 + 2*x1 + 4*x2 + 1]])"
      ]
     },
     "metadata": {},
     "output_type": "display_data"
    },
    {
     "name": "stdout",
     "output_type": "stream",
     "text": [
      "x1 =\n"
     ]
    },
    {
     "data": {
      "text/latex": [
       "$\\displaystyle - \\frac{\\lambda}{2} + u_{1} - \\frac{u_{2}}{2} + \\frac{7}{2}$"
      ],
      "text/plain": [
       "-\\lambda/2 + u1 - u2/2 + 7/2"
      ]
     },
     "metadata": {},
     "output_type": "display_data"
    },
    {
     "name": "stdout",
     "output_type": "stream",
     "text": [
      "x2 =\n"
     ]
    },
    {
     "data": {
      "text/latex": [
       "$\\displaystyle - \\frac{u_{1}}{2} + \\frac{u_{2}}{2} - 2$"
      ],
      "text/plain": [
       "-u1/2 + u2/2 - 2"
      ]
     },
     "metadata": {},
     "output_type": "display_data"
    }
   ],
   "source": [
    "print(\"Lagrangiano\")\n",
    "L = f + u1 * g1 + u2 * g2 + lam * h\n",
    "dL = df + u1 * dg1 + u2 * dg2 + lam * dh\n",
    "display(L)\n",
    "display(dL)\n",
    "\n",
    "\n",
    "sol = sp.solve(dL, [x1, x2])\n",
    "print(\"x1 =\")\n",
    "x1_multiplicador = sol[x1]\n",
    "display(x1_multiplicador)\n",
    "\n",
    "print(\"x2 =\")\n",
    "x2_multiplicador = sol[x2] \n",
    "display(x2_multiplicador)\n",
    "\n"
   ]
  },
  {
   "cell_type": "code",
   "execution_count": 147,
   "metadata": {},
   "outputs": [
    {
     "name": "stdout",
     "output_type": "stream",
     "text": [
      "lambda =\n"
     ]
    },
    {
     "data": {
      "text/plain": [
       "[u1 + 1]"
      ]
     },
     "execution_count": 147,
     "metadata": {},
     "output_type": "execute_result"
    }
   ],
   "source": [
    "sol_lam = sp.solve(h.subs({x1: x1_multiplicador, x2: x2_multiplicador}), lam)\n",
    "print(\"lambda =\")\n",
    "sol_lam\n"
   ]
  },
  {
   "cell_type": "code",
   "execution_count": 148,
   "metadata": {},
   "outputs": [
    {
     "name": "stdout",
     "output_type": "stream",
     "text": [
      "x1 =\n"
     ]
    },
    {
     "data": {
      "text/latex": [
       "$\\displaystyle \\frac{u_{1}}{2} - \\frac{u_{2}}{2} + 3$"
      ],
      "text/plain": [
       "u1/2 - u2/2 + 3"
      ]
     },
     "metadata": {},
     "output_type": "display_data"
    },
    {
     "name": "stdout",
     "output_type": "stream",
     "text": [
      "x2 =\n"
     ]
    },
    {
     "data": {
      "text/latex": [
       "$\\displaystyle - \\frac{u_{1}}{2} + \\frac{u_{2}}{2} - 2$"
      ],
      "text/plain": [
       "-u1/2 + u2/2 - 2"
      ]
     },
     "metadata": {},
     "output_type": "display_data"
    }
   ],
   "source": [
    "print(\"x1 =\")\n",
    "x1_multiplicador = sol[x1].subs({lam: sol_lam[0]})\n",
    "display(x1_multiplicador)\n",
    "\n",
    "print(\"x2 =\")\n",
    "x2_multiplicador = sol[x2] \n",
    "display(x2_multiplicador)"
   ]
  },
  {
   "cell_type": "code",
   "execution_count": 149,
   "metadata": {},
   "outputs": [
    {
     "data": {
      "text/latex": [
       "$\\displaystyle 2 x_{2}^{2} + 3 x_{2} - 2$"
      ],
      "text/plain": [
       "2*x2**2 + 3*x2 - 2"
      ]
     },
     "execution_count": 149,
     "metadata": {},
     "output_type": "execute_result"
    }
   ],
   "source": [
    "f.subs({x1: 1, 1 - x1: 0})\n"
   ]
  },
  {
   "cell_type": "markdown",
   "metadata": {},
   "source": [
    "Problema 17"
   ]
  },
  {
   "cell_type": "code",
   "execution_count": 176,
   "metadata": {},
   "outputs": [
    {
     "name": "stdout",
     "output_type": "stream",
     "text": [
      "Funciones\n"
     ]
    },
    {
     "data": {
      "text/latex": [
       "$f(\\mathbf x) = x_{1}^{2} + x_{1} x_{2} - 2 x_{1} + x_{2}^{2} + x_{2} x_{3} - 4 x_{2} + x_{3}^{2} - 6 x_{3}$"
      ]
     },
     "metadata": {},
     "output_type": "display_data"
    },
    {
     "data": {
      "text/latex": [
       "$g_1(\\mathbf x) = x_{1} + x_{2} + x_{3} - 1$"
      ]
     },
     "metadata": {},
     "output_type": "display_data"
    },
    {
     "name": "stdout",
     "output_type": "stream",
     "text": [
      "Gradientes\n"
     ]
    },
    {
     "data": {
      "text/latex": [
       "$\\nabla f(\\mathbf x) = \\left[\\begin{matrix}2 x_{1} + x_{2} - 2\\\\x_{1} + 2 x_{2} + x_{3} - 4\\\\x_{2} + 2 x_{3} - 6\\end{matrix}\\right]$"
      ]
     },
     "metadata": {},
     "output_type": "display_data"
    },
    {
     "data": {
      "text/latex": [
       "$\\nabla g_1(\\mathbf x) = \\left[\\begin{matrix}1\\\\1\\\\1\\end{matrix}\\right]$"
      ]
     },
     "metadata": {},
     "output_type": "display_data"
    }
   ],
   "source": [
    "x1, x2, x3, u = sp.symbols('x1, x2, x3, u')\n",
    "\n",
    "f = x1**2 + x2**2 + x3**2 + x1 * x2 + x2 * x3 - 2 * x1 - 4 * x2 - 6 * x3\n",
    "g = x1 + x2 + x3 - 1\n",
    "\n",
    "\n",
    "print(\"Funciones\")\n",
    "pretty_print(f\"$f(\\mathbf x) = {sp.latex(f)}$\")\n",
    "pretty_print(f\"$g_1(\\mathbf x) = {sp.latex(g)}$\")\n",
    "\n",
    "df = sp.Matrix([f]).jacobian((x1, x2, x3)).T\n",
    "dg = sp.Matrix([g]).jacobian((x1, x2, x3)).T\n",
    "\n",
    "print(\"Gradientes\")\n",
    "pretty_print(f\"$\\\\nabla f(\\mathbf x) = {sp.latex(df)}$\")\n",
    "pretty_print(f\"$\\\\nabla g_1(\\mathbf x) = {sp.latex(dg)}$\")\n"
   ]
  },
  {
   "cell_type": "code",
   "execution_count": 179,
   "metadata": {},
   "outputs": [
    {
     "name": "stdout",
     "output_type": "stream",
     "text": [
      "Lagrangiano\n"
     ]
    },
    {
     "data": {
      "text/latex": [
       "$\\displaystyle u \\left(x_{1} + x_{2} + x_{3} - 1\\right) + x_{1}^{2} + x_{1} x_{2} - 2 x_{1} + x_{2}^{2} + x_{2} x_{3} - 4 x_{2} + x_{3}^{2} - 6 x_{3}$"
      ],
      "text/plain": [
       "u*(x1 + x2 + x3 - 1) + x1**2 + x1*x2 - 2*x1 + x2**2 + x2*x3 - 4*x2 + x3**2 - 6*x3"
      ]
     },
     "metadata": {},
     "output_type": "display_data"
    },
    {
     "data": {
      "text/latex": [
       "$\\displaystyle \\left[\\begin{matrix}u + 2 x_{1} + x_{2} - 2\\\\u + x_{1} + 2 x_{2} + x_{3} - 4\\\\u + x_{2} + 2 x_{3} - 6\\end{matrix}\\right]$"
      ],
      "text/plain": [
       "Matrix([\n",
       "[     u + 2*x1 + x2 - 2],\n",
       "[u + x1 + 2*x2 + x3 - 4],\n",
       "[     u + x2 + 2*x3 - 6]])"
      ]
     },
     "metadata": {},
     "output_type": "display_data"
    },
    {
     "name": "stdout",
     "output_type": "stream",
     "text": [
      "x1 =\n"
     ]
    },
    {
     "data": {
      "text/latex": [
       "$\\displaystyle 1 - \\frac{u}{2}$"
      ],
      "text/plain": [
       "1 - u/2"
      ]
     },
     "metadata": {},
     "output_type": "display_data"
    },
    {
     "name": "stdout",
     "output_type": "stream",
     "text": [
      "x2 =\n"
     ]
    },
    {
     "data": {
      "text/latex": [
       "$\\displaystyle 0$"
      ],
      "text/plain": [
       "0"
      ]
     },
     "metadata": {},
     "output_type": "display_data"
    },
    {
     "name": "stdout",
     "output_type": "stream",
     "text": [
      "x3 =\n"
     ]
    },
    {
     "data": {
      "text/latex": [
       "$\\displaystyle 3 - \\frac{u}{2}$"
      ],
      "text/plain": [
       "3 - u/2"
      ]
     },
     "metadata": {},
     "output_type": "display_data"
    }
   ],
   "source": [
    "print(\"Lagrangiano\")\n",
    "L = f + u * g\n",
    "dL = df + u * dg\n",
    "display(L)\n",
    "display(dL)\n",
    "\n",
    "sol = sp.solve(dL, [x1, x2, x3])\n",
    "print(\"x1 =\")\n",
    "x1_multiplicador = sol[x1]\n",
    "display(x1_multiplicador)\n",
    "\n",
    "print(\"x2 =\")\n",
    "x2_multiplicador = sol[x2] \n",
    "display(x2_multiplicador)\n",
    "\n",
    "print(\"x3 =\")\n",
    "x2_multiplicador = sol[x3] \n",
    "display(x2_multiplicador)"
   ]
  },
  {
   "cell_type": "markdown",
   "metadata": {},
   "source": [
    "Problema 14"
   ]
  },
  {
   "cell_type": "code",
   "execution_count": 180,
   "metadata": {},
   "outputs": [
    {
     "name": "stdout",
     "output_type": "stream",
     "text": [
      "Funciones\n"
     ]
    },
    {
     "data": {
      "text/latex": [
       "$f(\\mathbf x) = e^{x^{2} + y^{2}}$"
      ]
     },
     "metadata": {},
     "output_type": "display_data"
    },
    {
     "data": {
      "text/latex": [
       "$h(\\mathbf x) = 2 x - y - 4$"
      ]
     },
     "metadata": {},
     "output_type": "display_data"
    },
    {
     "name": "stdout",
     "output_type": "stream",
     "text": [
      "Gradientes\n"
     ]
    },
    {
     "data": {
      "text/latex": [
       "$\\nabla f(\\mathbf x) = \\left[\\begin{matrix}2 x e^{x^{2} + y^{2}}\\\\2 y e^{x^{2} + y^{2}}\\end{matrix}\\right]$"
      ]
     },
     "metadata": {},
     "output_type": "display_data"
    },
    {
     "data": {
      "text/latex": [
       "$\\nabla g_1(\\mathbf x) = \\left[\\begin{matrix}2\\\\-1\\end{matrix}\\right]$"
      ]
     },
     "metadata": {},
     "output_type": "display_data"
    }
   ],
   "source": [
    "x, y, lam = sp.symbols('x, y, \\\\lambda')\n",
    "\n",
    "f = sp.exp(x**2 + y**2)\n",
    "h = 2 * x - y - 4\n",
    "\n",
    "print(\"Funciones\")\n",
    "pretty_print(f\"$f(\\mathbf x) = {sp.latex(f)}$\")\n",
    "pretty_print(f\"$h(\\mathbf x) = {sp.latex(h)}$\")\n",
    "\n",
    "df = sp.Matrix([f]).jacobian((x, y)).T\n",
    "dh = sp.Matrix([h]).jacobian((x, y)).T\n",
    "\n",
    "print(\"Gradientes\")\n",
    "pretty_print(f\"$\\\\nabla f(\\mathbf x) = {sp.latex(df)}$\")\n",
    "pretty_print(f\"$\\\\nabla h(\\mathbf x) = {sp.latex(dh)}$\")\n"
   ]
  },
  {
   "cell_type": "code",
   "execution_count": 182,
   "metadata": {},
   "outputs": [
    {
     "name": "stdout",
     "output_type": "stream",
     "text": [
      "Lagrangiano\n"
     ]
    },
    {
     "data": {
      "text/latex": [
       "$\\displaystyle \\lambda \\left(2 x - y - 4\\right) + e^{x^{2} + y^{2}}$"
      ],
      "text/plain": [
       "\\lambda*(2*x - y - 4) + exp(x**2 + y**2)"
      ]
     },
     "metadata": {},
     "output_type": "display_data"
    },
    {
     "data": {
      "text/latex": [
       "$\\displaystyle \\left[\\begin{matrix}2 \\lambda + 2 x e^{x^{2} + y^{2}}\\\\- \\lambda + 2 y e^{x^{2} + y^{2}}\\end{matrix}\\right]$"
      ],
      "text/plain": [
       "Matrix([\n",
       "[2*\\lambda + 2*x*exp(x**2 + y**2)],\n",
       "[ -\\lambda + 2*y*exp(x**2 + y**2)]])"
      ]
     },
     "metadata": {},
     "output_type": "display_data"
    }
   ],
   "source": [
    "print(\"Lagrangiano\")\n",
    "L = f + lam * h\n",
    "dL = df + lam * dh\n",
    "display(L)\n",
    "display(dL)\n"
   ]
  },
  {
   "cell_type": "markdown",
   "metadata": {},
   "source": [
    "# Práctica Calificada 3"
   ]
  },
  {
   "cell_type": "markdown",
   "metadata": {},
   "source": [
    "Pregunta 1"
   ]
  },
  {
   "cell_type": "code",
   "execution_count": 195,
   "metadata": {},
   "outputs": [
    {
     "name": "stdout",
     "output_type": "stream",
     "text": [
      "Funciones\n"
     ]
    },
    {
     "data": {
      "text/latex": [
       "$f(\\mathbf x) = x_{1}^{2} + x_{2}^{2} + x_{3}^{2}$"
      ]
     },
     "metadata": {},
     "output_type": "display_data"
    },
    {
     "data": {
      "text/latex": [
       "$h(\\mathbf x) = x_{1} x_{2} x_{3} - 1$"
      ]
     },
     "metadata": {},
     "output_type": "display_data"
    },
    {
     "name": "stdout",
     "output_type": "stream",
     "text": [
      "Gradientes\n"
     ]
    },
    {
     "data": {
      "text/latex": [
       "$\\nabla f(\\mathbf x) = \\left[\\begin{matrix}2 x_{1}\\\\2 x_{2}\\\\2 x_{3}\\end{matrix}\\right]$"
      ]
     },
     "metadata": {},
     "output_type": "display_data"
    },
    {
     "data": {
      "text/latex": [
       "$\\nabla h(\\mathbf x) = \\left[\\begin{matrix}x_{2} x_{3}\\\\x_{1} x_{3}\\\\x_{1} x_{2}\\end{matrix}\\right]$"
      ]
     },
     "metadata": {},
     "output_type": "display_data"
    }
   ],
   "source": [
    "x1, x2, x3, mu = sp.symbols('x1, x2, x3, \\\\mu')\n",
    "\n",
    "f = x1**2 + x2**2 + x3**2\n",
    "h = x1 * x2 * x3 - 1\n",
    "\n",
    "\n",
    "print(\"Funciones\")\n",
    "pretty_print(f\"$f(\\mathbf x) = {sp.latex(f)}$\")\n",
    "pretty_print(f\"$h(\\mathbf x) = {sp.latex(h)}$\")\n",
    "\n",
    "df = sp.Matrix([f]).jacobian((x1, x2, x3)).T\n",
    "dh = sp.Matrix([h]).jacobian((x1, x2, x3)).T\n",
    "\n",
    "print(\"Gradientes\")\n",
    "pretty_print(f\"$\\\\nabla f(\\mathbf x) = {sp.latex(df)}$\")\n",
    "pretty_print(f\"$\\\\nabla h(\\mathbf x) = {sp.latex(dh)}$\")\n"
   ]
  },
  {
   "cell_type": "code",
   "execution_count": 197,
   "metadata": {},
   "outputs": [
    {
     "name": "stdout",
     "output_type": "stream",
     "text": [
      "Lagrangiano\n"
     ]
    },
    {
     "data": {
      "text/latex": [
       "$\\displaystyle \\mu \\left(x_{1} x_{2} x_{3} - 1\\right) + x_{1}^{2} + x_{2}^{2} + x_{3}^{2}$"
      ],
      "text/plain": [
       "\\mu*(x1*x2*x3 - 1) + x1**2 + x2**2 + x3**2"
      ]
     },
     "metadata": {},
     "output_type": "display_data"
    },
    {
     "data": {
      "text/latex": [
       "$\\displaystyle \\left[\\begin{matrix}\\mu x_{2} x_{3} + 2 x_{1}\\\\\\mu x_{1} x_{3} + 2 x_{2}\\\\\\mu x_{1} x_{2} + 2 x_{3}\\end{matrix}\\right]$"
      ],
      "text/plain": [
       "Matrix([\n",
       "[\\mu*x2*x3 + 2*x1],\n",
       "[\\mu*x1*x3 + 2*x2],\n",
       "[\\mu*x1*x2 + 2*x3]])"
      ]
     },
     "metadata": {},
     "output_type": "display_data"
    },
    {
     "data": {
      "text/plain": [
       "[{x1: 0, x2: 0, x3: 0},\n",
       " {x1: -2/\\mu, x2: -2/\\mu, x3: -2/\\mu},\n",
       " {x1: -2/\\mu, x2: 2/\\mu, x3: 2/\\mu},\n",
       " {x1: 2/\\mu, x2: -2/\\mu, x3: 2/\\mu},\n",
       " {x1: 2/\\mu, x2: 2/\\mu, x3: -2/\\mu}]"
      ]
     },
     "metadata": {},
     "output_type": "display_data"
    }
   ],
   "source": [
    "print(\"Lagrangiano\")\n",
    "L = f + mu * h\n",
    "dL = df + mu * dh\n",
    "display(L)\n",
    "display(dL)\n",
    "\n",
    "all_sol = sp.solve(dL, [x1, x2, x3], dict=True)\n",
    "display(all_sol)\n"
   ]
  },
  {
   "cell_type": "markdown",
   "metadata": {},
   "source": [
    "Pregunta 3"
   ]
  },
  {
   "cell_type": "code",
   "execution_count": 203,
   "metadata": {},
   "outputs": [
    {
     "name": "stdout",
     "output_type": "stream",
     "text": [
      "Funciones\n"
     ]
    },
    {
     "data": {
      "text/latex": [
       "$f(\\mathbf x) = - x_{2}^{2} + x_{3}^{2} - \\left(x_{1} - 2\\right)^{2}$"
      ]
     },
     "metadata": {},
     "output_type": "display_data"
    },
    {
     "data": {
      "text/latex": [
       "$g_1(\\mathbf x) = - x_{1}^{2} - x_{2}^{2} + 1$"
      ]
     },
     "metadata": {},
     "output_type": "display_data"
    },
    {
     "data": {
      "text/latex": [
       "$g_2(\\mathbf x) = - x_{2}$"
      ]
     },
     "metadata": {},
     "output_type": "display_data"
    },
    {
     "name": "stdout",
     "output_type": "stream",
     "text": [
      "Gradientes\n"
     ]
    },
    {
     "data": {
      "text/latex": [
       "$\\nabla f(\\mathbf x) = \\left[\\begin{matrix}4 - 2 x_{1}\\\\- 2 x_{2}\\\\2 x_{3}\\end{matrix}\\right]$"
      ]
     },
     "metadata": {},
     "output_type": "display_data"
    },
    {
     "data": {
      "text/latex": [
       "$\\nabla g_1(\\mathbf x) = \\left[\\begin{matrix}- 2 x_{1}\\\\- 2 x_{2}\\\\0\\end{matrix}\\right]$"
      ]
     },
     "metadata": {},
     "output_type": "display_data"
    },
    {
     "data": {
      "text/latex": [
       "$\\nabla g_2(\\mathbf x) = \\left[\\begin{matrix}0\\\\-1\\\\0\\end{matrix}\\right]$"
      ]
     },
     "metadata": {},
     "output_type": "display_data"
    }
   ],
   "source": [
    "x1, x2, x3, u1, u2 = sp.symbols('x1, x2, x3, u1, u2')\n",
    "\n",
    "f = -(x1 - 2)**2 - x2**2 + x3**2\n",
    "g1 = -x1**2 - x2**2 + 1\n",
    "g2 = -x2\n",
    "\n",
    "print(\"Funciones\")\n",
    "pretty_print(f\"$f(\\mathbf x) = {sp.latex(f)}$\")\n",
    "pretty_print(f\"$g_1(\\mathbf x) = {sp.latex(g1)}$\")\n",
    "pretty_print(f\"$g_2(\\mathbf x) = {sp.latex(g2)}$\")\n",
    "\n",
    "df = sp.Matrix([f]).jacobian((x1, x2, x3)).T\n",
    "dg1 = sp.Matrix([g1]).jacobian((x1, x2, x3)).T\n",
    "dg2 = sp.Matrix([g2]).jacobian((x1, x2, x3)).T\n",
    "\n",
    "print(\"Gradientes\")\n",
    "pretty_print(f\"$\\\\nabla f(\\mathbf x) = {sp.latex(df)}$\")\n",
    "pretty_print(f\"$\\\\nabla g_1(\\mathbf x) = {sp.latex(dg1)}$\")\n",
    "pretty_print(f\"$\\\\nabla g_2(\\mathbf x) = {sp.latex(dg2)}$\")\n",
    "\n"
   ]
  },
  {
   "cell_type": "code",
   "execution_count": 205,
   "metadata": {},
   "outputs": [
    {
     "data": {
      "text/latex": [
       "$\\displaystyle \\left[\\begin{matrix}-2 & 0 & 0\\\\0 & -2 & 0\\\\0 & 0 & 0\\end{matrix}\\right]$"
      ],
      "text/plain": [
       "Matrix([\n",
       "[-2,  0, 0],\n",
       "[ 0, -2, 0],\n",
       "[ 0,  0, 0]])"
      ]
     },
     "execution_count": 205,
     "metadata": {},
     "output_type": "execute_result"
    }
   ],
   "source": [
    "hessian = sp.hessian(g1, (x1, x2, x3))\n",
    "hessian"
   ]
  },
  {
   "cell_type": "code",
   "execution_count": null,
   "metadata": {},
   "outputs": [],
   "source": []
  }
 ],
 "metadata": {
  "kernelspec": {
   "display_name": "Python 3.10.8 64-bit",
   "language": "python",
   "name": "python3"
  },
  "language_info": {
   "codemirror_mode": {
    "name": "ipython",
    "version": 3
   },
   "file_extension": ".py",
   "mimetype": "text/x-python",
   "name": "python",
   "nbconvert_exporter": "python",
   "pygments_lexer": "ipython3",
   "version": "3.10.8"
  },
  "orig_nbformat": 4,
  "vscode": {
   "interpreter": {
    "hash": "590f4a299ae404e723bbc5f32e9a7b98b836c3c65ce9112bc934ac92a06ceee3"
   }
  }
 },
 "nbformat": 4,
 "nbformat_minor": 2
}
