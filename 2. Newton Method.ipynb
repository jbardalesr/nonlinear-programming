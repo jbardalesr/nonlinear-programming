{
 "cells": [
  {
   "cell_type": "code",
   "execution_count": 38,
   "metadata": {},
   "outputs": [],
   "source": [
    "import numpy as np\n",
    "import numpy.linalg as la\n",
    "from typing import Callable\n",
    "import matplotlib.pyplot as plt\n",
    "import sympy as sp\n",
    "import pandas as pd\n",
    "pd.set_option(\"display.precision\", 8)\n"
   ]
  },
  {
   "cell_type": "markdown",
   "metadata": {},
   "source": [
    "# Newton Non-Linear equation "
   ]
  },
  {
   "cell_type": "markdown",
   "metadata": {},
   "source": [
    "$$f(\\mathbf x) = \\begin{bmatrix}3x_1 - \\cos{x_2 x_3} - 0.5\\\\x_1^2 - 81{(x_2 + 0.1)}^2 + \\sin{x_3} + 1.06\\\\e^{-x_1x_2} + 20x_3 + \\frac{10\\pi - 3}{3} \\end{bmatrix}$$"
   ]
  },
  {
   "cell_type": "code",
   "execution_count": 39,
   "metadata": {},
   "outputs": [],
   "source": [
    "# x0 = np.array([0.1, 0.1, 0.1])\n",
    "f0 = lambda x: np.array([3 * x[0] - np.cos(x[1] * x[2]) - 0.5,\n",
    "                         x[0]**2 - 81.0 * (x[1] + 0.1)**2 + np.sin(x[2]) + 1.06,\n",
    "                         np.e**(-x[0] * x[1]) + 20 * x[2] + (10 * np.pi - 3.0) / 3.0])\n",
    "\n",
    "df0 = lambda x: np.array([[3, x[2] * np.sin(x[1] * x[2]), x[1] * np.sin(x[1] * x[2])],\n",
    "                          [2 * x[0], -162 * (x[1] + 0.1), np.cos(x[2])],\n",
    "                          [-x[1] * np.e**(-x[0] * x[1]), -x[0] * np.e**(-x[0] * x[1]), 20]])\n"
   ]
  },
  {
   "cell_type": "code",
   "execution_count": 40,
   "metadata": {},
   "outputs": [],
   "source": [
    "def newton_method(f: Callable, df: Callable, x0: np.ndarray, MAX_ITER=100, tol=1e-8):\n",
    "    \"\"\"\n",
    "    Newton's method to solve the system f(x)=0\n",
    "    \"\"\"\n",
    "    for k in range(1, MAX_ITER):\n",
    "        f_val = f(x0)\n",
    "        df_val = df(x0)\n",
    "        # update step\n",
    "        dx = np.linalg.solve(df_val, f_val)\n",
    "        x = x0 - dx\n",
    "        # absolute error \n",
    "        abs_err = la.norm(x - x0, np.inf)\n",
    "        # print step\n",
    "        print(f\"{k:02d} {x} {abs_err:0.8f}\")\n",
    "        # stop criterion |x-x0|=0\n",
    "        if abs_err < tol:\n",
    "            return x\n",
    "        x0 = x.copy()\n",
    "    print(\"Too many iterations\")\n",
    "    return None"
   ]
  },
  {
   "cell_type": "code",
   "execution_count": 41,
   "metadata": {},
   "outputs": [
    {
     "name": "stdout",
     "output_type": "stream",
     "text": [
      "k  x[k]\t\t\t\t\t error absolute\n",
      "01 [ 0.91968721  0.46082246 -0.50338764] 1.50338764\n",
      "02 [ 0.50100049  0.18743348 -0.52086923] 0.41868673\n",
      "03 [ 0.50054294  0.06115345 -0.52200096] 0.12628002\n",
      "04 [ 0.50010444  0.01161711 -0.52329515] 0.04953635\n",
      "05 [ 0.50000551  0.00060562 -0.52358294] 0.01101149\n",
      "06 [ 0.50000002  0.00000183 -0.52359873] 0.00060379\n",
      "07 [ 0.5         0.         -0.52359878] 0.00000183\n",
      "08 [ 0.5        -0.         -0.52359878] 0.00000000\n"
     ]
    }
   ],
   "source": [
    "x0 = np.array([1.0, 1.0, 1.0])\n",
    "np.set_printoptions(precision=8, suppress=True)\n",
    "print(\"k  x[k]\\t\\t\\t\\t\\t error absolute\")\n",
    "newton_method(f0, df0, x0);\n"
   ]
  },
  {
   "cell_type": "markdown",
   "metadata": {},
   "source": [
    "# Newton Optimization"
   ]
  },
  {
   "cell_type": "markdown",
   "metadata": {},
   "source": [
    "Iteración\n",
    "$$x_{k+1}=x_k - {[\\nabla ^2 f(x_k)]}^{-1} \\nabla  f(x_k)$$"
   ]
  },
  {
   "cell_type": "code",
   "execution_count": 42,
   "metadata": {},
   "outputs": [],
   "source": [
    "def newton_optimization(f: Callable, df: Callable, ddf: Callable, x: np.ndarray, MAX_ITER=100, tol=1e-7):\n",
    "    \"\"\"\n",
    "    Newton's method to solve min f(x) for x in R^n\n",
    "    \"\"\"\n",
    "    print(f\"{0:02d} {x}\")\n",
    "    for k in range(1, MAX_ITER):\n",
    "        # calculate gradient and hessian\n",
    "        gradient = df(x)\n",
    "        hessian = ddf(x)\n",
    "        # update step\n",
    "        dx = np.linalg.solve(hessian, -gradient)\n",
    "        x = x + dx\n",
    "        # gradient norm error\n",
    "        grad_err = la.norm(df(x), np.inf)\n",
    "        # print step\n",
    "        print(f\"{k:02d} {x} {f(x):0.9f} {grad_err:0.9f}\")\n",
    "        # stop criterion |∇f|=0\n",
    "        if grad_err < tol:\n",
    "            return x\n",
    "    print(\"Too many iterations\")\n",
    "    return None\n"
   ]
  },
  {
   "cell_type": "markdown",
   "metadata": {},
   "source": [
    "# Laboratorio Semana 11: Método de Newton\n",
    "\n",
    "Aplicando el método de Newton Minimizar las siguientes funciones"
   ]
  },
  {
   "cell_type": "markdown",
   "metadata": {},
   "source": [
    "##### a) $f(\\mathbf x) = 7x_1^2 + 2x_1x_2 + x_2^2$"
   ]
  },
  {
   "cell_type": "code",
   "execution_count": 43,
   "metadata": {},
   "outputs": [
    {
     "name": "stdout",
     "output_type": "stream",
     "text": [
      "k  x[k]\tf(x[k])\terror |∇f|=0\n",
      "00 [-2.  2.]\n",
      "01 [0. 0.] 0.000000000 0.000000000\n"
     ]
    }
   ],
   "source": [
    "fa = lambda x: 7 * x[0]**2 + 2 * x[0] * x[1] + x[1]**2\n",
    "dfa = lambda x: np.array([14 * x[0] + 2 * x[1], 2 * x[0] + 2 * x[1]])\n",
    "ddfa = lambda x: np.array([[14, 2],\n",
    "                           [2, 2.]])\n",
    "\n",
    "x0 = np.array([-2, 2.])\n",
    "print(\"k  x[k]\\tf(x[k])\\terror |∇f|=0\")\n",
    "newton_optimization(fa, dfa, ddfa, x0);\n"
   ]
  },
  {
   "cell_type": "markdown",
   "metadata": {},
   "source": [
    "##### b) $f(\\mathbf x)=x_{1}^{2} + x_{1} x_{2} + 2 x_{1} x_{3} + 4 x_{2}^{2} + x_{2} x_{3} + 4 x_{3}^{2}$"
   ]
  },
  {
   "cell_type": "code",
   "execution_count": 44,
   "metadata": {},
   "outputs": [
    {
     "name": "stdout",
     "output_type": "stream",
     "text": [
      "k  x[k]\tf(x[k])\terror |∇f|=0\n",
      "00 [1. 1. 1.]\n",
      "01 [0. 0. 0.] 0.000000000 0.000000000\n"
     ]
    }
   ],
   "source": [
    "fb = lambda x: x[0]**2 + x[0] * x[1] + 2 * x[0] * x[2] + 4 * x[1]**2 + x[1] * x[2] + 4 * x[2]**2\n",
    "dfb = lambda x: np.array([2 * x[0] + x[1] + 2 * x[2], x[0] + 8 * x[1] + x[2], 2 * x[0] + x[1] + 8 * x[2]])\n",
    "ddfb = lambda x: np.array([[2, 1, 2],\n",
    "                           [1, 8, 1],\n",
    "                           [2, 1, 8.]])\n",
    "                           \n",
    "x0 = np.array([1.0, 1.0, 1.0])\n",
    "print(\"k  x[k]\\tf(x[k])\\terror |∇f|=0\")\n",
    "newton_optimization(fb, dfb, ddfb, x0);\n"
   ]
  },
  {
   "cell_type": "markdown",
   "metadata": {},
   "source": [
    "##### c) $f(\\mathbf x)=4 \\left(x_{1} - 2\\right)^{4} + 2 \\left(x_{1} - 2 x_{2}\\right)^{2}$"
   ]
  },
  {
   "cell_type": "code",
   "execution_count": 45,
   "metadata": {},
   "outputs": [
    {
     "name": "stdout",
     "output_type": "stream",
     "text": [
      "k\tx[k]\t\tf(x[k])\terror |∇f|=0\n",
      "00 [1.  1.2]\n",
      "01 [1.33333333 0.66666667] 0.790123457 4.740740741\n",
      "02 [1.55555556 0.77777778] 0.156073769 1.404663923\n",
      "03 [1.7037037  0.85185185] 0.030829387 0.416196718\n",
      "04 [1.80246914 0.90123457] 0.006089755 0.123317546\n",
      "05 [1.86831276 0.93415638] 0.001202915 0.036538532\n",
      "06 [1.9122085  0.95610425] 0.000237613 0.010826232\n",
      "07 [1.94147234 0.97073617] 0.000046936 0.003207772\n",
      "08 [1.96098156 0.98049078] 0.000009271 0.000950451\n",
      "09 [1.97398771 0.98699385] 0.000001831 0.000281615\n",
      "10 [1.98265847 0.99132924] 0.000000362 0.000083442\n",
      "11 [1.98843898 0.99421949] 0.000000071 0.000024723\n",
      "12 [1.99229265 0.99614633] 0.000000014 0.000007325\n",
      "13 [1.99486177 0.99743088] 0.000000003 0.000002171\n",
      "14 [1.99657451 0.99828726] 0.000000001 0.000000643\n",
      "15 [1.99771634 0.99885817] 0.000000000 0.000000191\n",
      "16 [1.99847756 0.99923878] 0.000000000 0.000000056\n"
     ]
    }
   ],
   "source": [
    "fc = lambda x: 4 * (x[0] - 2)**4 + 2 * (x[0] - 2 * x[1])**2\n",
    "dfc = lambda x: np.array([4 * x[0] - 8 * x[1] + 16 * (x[0] - 2)**3, -8 * x[0] + 16 * x[1]])\n",
    "ddfc = lambda x: np.array([[48 * (x[0] - 2)**2 + 4, -8],\n",
    "                           [-8, 16]])\n",
    "x0 = np.array([1.0, 1.2])\n",
    "print(\"k\\tx[k]\\t\\tf(x[k])\\terror |∇f|=0\")\n",
    "newton_optimization(fc, dfc, ddfc, x0);\n"
   ]
  },
  {
   "cell_type": "markdown",
   "metadata": {},
   "source": [
    "##### d) $f(\\mathbf x)=\\left(x_{1} - 2\\right)^{4} + \\left(x_{1} - x_{2}\\right)^{2}$\n"
   ]
  },
  {
   "cell_type": "code",
   "execution_count": 46,
   "metadata": {},
   "outputs": [
    {
     "name": "stdout",
     "output_type": "stream",
     "text": [
      "k\tx[k]\t\tf(x[k])\terror |∇f|=0\n",
      "00 [1.  1.2]\n",
      "01 [1.33333333 1.33333333] 0.197530864 1.185185185\n",
      "02 [1.55555556 1.55555556] 0.039018442 0.351165981\n",
      "03 [1.7037037 1.7037037] 0.007707347 0.104049179\n",
      "04 [1.80246914 1.80246914] 0.001522439 0.030829387\n",
      "05 [1.86831276 1.86831276] 0.000300729 0.009134633\n",
      "06 [1.9122085 1.9122085] 0.000059403 0.002706558\n",
      "07 [1.94147234 1.94147234] 0.000011734 0.000801943\n",
      "08 [1.96098156 1.96098156] 0.000002318 0.000237613\n",
      "09 [1.97398771 1.97398771] 0.000000458 0.000070404\n",
      "10 [1.98265847 1.98265847] 0.000000090 0.000020860\n",
      "11 [1.98843898 1.98843898] 0.000000018 0.000006181\n",
      "12 [1.99229265 1.99229265] 0.000000004 0.000001831\n",
      "13 [1.99486177 1.99486177] 0.000000001 0.000000543\n",
      "14 [1.99657451 1.99657451] 0.000000000 0.000000161\n",
      "15 [1.99771634 1.99771634] 0.000000000 0.000000048\n"
     ]
    }
   ],
   "source": [
    "fd = lambda x: (x[0] - 2)**4 + (x[0] - x[1])**2\n",
    "dfd = lambda x: np.array([2 * x[0] - 2 * x[1] + 4 * (x[0] - 2)**3, -2 * x[0] + 2 * x[1]])\n",
    "ddfd = lambda x: np.array([[12 * (x[0] - 2)**2 + 2, -2], [-2, 2]])\n",
    "\n",
    "x0 = np.array([1.0, 1.2])\n",
    "print(\"k\\tx[k]\\t\\tf(x[k])\\terror |∇f|=0\")\n",
    "newton_optimization(fd, dfd, ddfd, x0);\n"
   ]
  },
  {
   "cell_type": "markdown",
   "metadata": {},
   "source": [
    "##### e) $f(\\mathbf x)=x_{1}^{4} + \\left(x_{1} + x_{2}\\right)^{2} + \\left(e^{x_{2}} - 1\\right)^{2}$\n"
   ]
  },
  {
   "cell_type": "code",
   "execution_count": 47,
   "metadata": {},
   "outputs": [
    {
     "name": "stdout",
     "output_type": "stream",
     "text": [
      "k\tx[k]\t\tf(x[k])\terror |∇f|=0\n",
      "00 [1.  1.2]\n",
      "01 [0.46786411 0.72495126] 2.604162320 6.781767668\n",
      "02 [0.03509768 0.32846156] 0.283365491 1.807155485\n",
      "03 [-0.10836193  0.10933579] 0.013487599 0.259718981\n",
      "04 [-0.02164563  0.01808097] 0.000345822 0.030027320\n",
      "05 [-0.00055387  0.00051486] 0.000000267 0.000952501\n",
      "06 [-0.0000004  0.0000004] 0.000000000 0.000000795\n",
      "07 [-0.  0.] 0.000000000 0.000000000\n"
     ]
    }
   ],
   "source": [
    "fe = lambda x: x[0]**4 + (x[0] + x[1])**2 + (np.exp(x[1]) - 1)**2\n",
    "dfe = lambda x: np.array([4 * x[0]**3 + 2 * x[0] + 2 * x[1], 2 * x[0] + 2 * x[1] + 2 * (np.exp(x[1]) - 1) * np.exp(x[1])])\n",
    "ddfe = lambda x: np.array([[12 * x[0]**2 + 2, 2],\n",
    "                           [2, 2 * (np.exp(x[1]) - 1) * np.exp(x[1]) + 2 * np.exp(2 * x[1]) + 2]])\n",
    "\n",
    "x0 = np.array([1.0, 1.2])\n",
    "print(\"k\\tx[k]\\t\\tf(x[k])\\terror |∇f|=0\")\n",
    "newton_optimization(fe, dfe, ddfe, x0);\n"
   ]
  },
  {
   "cell_type": "markdown",
   "metadata": {},
   "source": [
    "##### f) $f(\\mathbf x)=\\frac{3 x_{1}^{2}}{2} + x_{1} x_{3} - x_{1} + 2 x_{2}^{2} + 2 x_{2} x_{3} - x_{2} + \\frac{3 x_{3}^{2}}{2} - x_{3} + 3$\n"
   ]
  },
  {
   "cell_type": "code",
   "execution_count": 48,
   "metadata": {},
   "outputs": [
    {
     "name": "stdout",
     "output_type": "stream",
     "text": [
      "k\tx[k]\tf(x[k])\terror |∇f|=0\n",
      "00 [1. 1. 1.]\n",
      "01 [0.3 0.2 0.1] 2.700000000 0.000000000\n"
     ]
    }
   ],
   "source": [
    "ff = lambda x: 3 * x[0]**2 / 2 + x[0] * x[2] - x[0] + 2 * x[1]**2 + 2 * x[1] * x[2] - x[1] + 3 * x[2]**2 / 2 - x[2] + 3\n",
    "dff = lambda x: np.array([3 * x[0] + x[2] - 1, 4 * x[1] + 2 * x[2] - 1, x[0] + 2 * x[1] + 3 * x[2] - 1])\n",
    "ddff = lambda x: np.array([[3, 0, 1],\n",
    "                           [0, 4, 2],\n",
    "                           [1, 2, 3]])\n",
    "\n",
    "x0 = np.array([1.0, 1.0, 1.0])\n",
    "print(\"k\\tx[k]\\tf(x[k])\\terror |∇f|=0\")\n",
    "newton_optimization(ff, dff, ddff, x0);\n"
   ]
  },
  {
   "cell_type": "markdown",
   "metadata": {},
   "source": [
    "##### g) $f(\\mathbf x)=- 2 e^{- \\left(x_{1} - 1\\right)^{2} - \\left(x_{2} - 1\\right)^{2}}$"
   ]
  },
  {
   "cell_type": "code",
   "execution_count": 64,
   "metadata": {},
   "outputs": [
    {
     "name": "stdout",
     "output_type": "stream",
     "text": [
      "k\tx[k]\t\t\tf(x[k])\terror |∇f|=0\n",
      "00 [0.6  0.75]\n",
      "01 [1.32072072 1.20045045] -1.733435048 1.111897076\n",
      "02 [0.87147898 0.91967436] -1.954583875 0.502410234\n",
      "03 [1.00618852 1.00386782] -1.999893487 0.024752757\n",
      "04 [0.99999934 0.99999959] -2.000000000 0.000002637\n",
      "05 [1. 1.] -2.000000000 0.000000000\n"
     ]
    },
    {
     "data": {
      "text/plain": [
       "array([1., 1.])"
      ]
     },
     "execution_count": 64,
     "metadata": {},
     "output_type": "execute_result"
    }
   ],
   "source": [
    "fg = lambda x: -2 * np.exp(-(x[0] - 1)**2 - (x[1] - 1)**2)\n",
    "dfg = lambda x: np.array([-2 * (2 - 2 * x[0]) * np.exp(-(x[0] - 1)**2 - (x[1] - 1)**2), -2 * (2 - 2 * x[1]) * np.exp(-(x[0] - 1)**2 - (x[1] - 1)**2)])\n",
    "ddfg = lambda x: np.array([[-2 * (2 - 2 * x[0])**2 * np.exp(-(x[0] - 1)**2 - (x[1] - 1)**2) + 4 * np.exp(-(x[0] - 1)**2 - (x[1] - 1)**2), -2 * (2 - 2 * x[0]) * (2 - 2 * x[1]) * np.exp(-(x[0] - 1)**2 - (x[1] - 1)**2)],\n",
    "                           [-2 * (2 - 2 * x[0]) * (2 - 2 * x[1]) * np.exp(-(x[0] - 1)**2 - (x[1] - 1)**2), -2 * (2 - 2 * x[1])**2 * np.exp(-(x[0] - 1)**2 - (x[1] - 1)**2) + 4 * np.exp(-(x[0] - 1)**2 - (x[1] - 1)**2)]])\n",
    "\n",
    "x0 = np.array([0.6, 0.75])\n",
    "print(\"k\\tx[k]\\t\\t\\tf(x[k])\\terror |∇f|=0\")\n",
    "newton_optimization(fg, dfg, ddfg, x0)\n"
   ]
  }
 ],
 "metadata": {
  "kernelspec": {
   "display_name": "Python 3",
   "language": "python",
   "name": "python3"
  },
  "language_info": {
   "codemirror_mode": {
    "name": "ipython",
    "version": 3
   },
   "file_extension": ".py",
   "mimetype": "text/x-python",
   "name": "python",
   "nbconvert_exporter": "python",
   "pygments_lexer": "ipython3",
   "version": "3.11.1"
  },
  "orig_nbformat": 4,
  "vscode": {
   "interpreter": {
    "hash": "ad0665b20a8e3f55a21bf4726f6eb7599e5e078c0d7c5bed50553642023e8e09"
   }
  }
 },
 "nbformat": 4,
 "nbformat_minor": 2
}
