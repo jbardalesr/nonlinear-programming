{
 "cells": [
  {
   "cell_type": "code",
   "execution_count": 4,
   "metadata": {},
   "outputs": [],
   "source": [
    "import numpy as np\n",
    "import numpy.linalg as la\n"
   ]
  },
  {
   "cell_type": "code",
   "execution_count": 20,
   "metadata": {},
   "outputs": [],
   "source": [
    "def conjugate_directions(Q, q, c, x, eps=1e-5, MAX_ITER=1000):\n",
    "    print(f\"{0:02d}, {x}\")  # x[0]\n",
    "    f = lambda x: np.dot(Q @ x, x) + q @ x + c\n",
    "    gradient = lambda x: 2 * Q @ x + q\n",
    "    for k in range(MAX_ITER):\n",
    "        grad = gradient(x)  # x[1]\n",
    "        if k == 0:\n",
    "            d = -grad\n",
    "        else:\n",
    "            # In beta[k] we use old d[k-1] getting  prev step\n",
    "            beta = np.dot(Qd, grad) / np.dot(Qd, d)\n",
    "            # update d[k-1] to d[k]\n",
    "            d = -grad + beta * d\n",
    "        Qd = Q @ d\n",
    "        # we use new d[k] and x[k] in alpha[k]\n",
    "        alpha = - 0.5 * np.dot(grad, d) / np.dot(Qd, d)\n",
    "        # update x[k+1] for next step\n",
    "        x = x + alpha * d\n",
    "        error = la.norm(d)\n",
    "        print(f\"{k:02d}, {x}, {error:0.8f}\")\n",
    "        if error < eps:\n",
    "            break\n"
   ]
  },
  {
   "cell_type": "code",
   "execution_count": 21,
   "metadata": {},
   "outputs": [
    {
     "name": "stdout",
     "output_type": "stream",
     "text": [
      "00, [0. 0. 0.]\n",
      "00, [-0.05785124 -0.11570248 -0.17355372], 3.74165739\n",
      "01, [-0.01277817 -0.1607197  -0.18025603], 1.09664794\n",
      "02, [-0.01378711 -0.16545644 -0.16400993], 0.23972277\n",
      "03, [-0.01807864 -0.16870551 -0.16340413], 0.08823757\n",
      "04, [-0.01748285 -0.17070592 -0.16420071], 0.03079693\n",
      "05, [-0.01717993 -0.17069872 -0.16404124], 0.00741603\n",
      "06, [-0.01719376 -0.17064616 -0.16400848], 0.00085843\n",
      "07, [-0.01719998 -0.17063812 -0.16401826], 0.00023006\n",
      "08, [-0.01719579 -0.17063588 -0.16402167], 0.00008531\n",
      "09, [-0.01719553 -0.17063515 -0.1640211 ], 0.00001496\n",
      "10, [-0.01719577 -0.17063492 -0.16402109], 0.00000605\n"
     ]
    }
   ],
   "source": [
    "Q = np.array([[10, 0, 2.],\n",
    "              [-1, 5, 1.],\n",
    "              [1., 1, 8]])\n",
    "\n",
    "q = np.array([1, 2, 3.])\n",
    "\n",
    "c = -5\n",
    "\n",
    "x0 = np.zeros_like(q)\n",
    "\n",
    "conjugate_directions(Q, q, c, x0)\n"
   ]
  },
  {
   "cell_type": "code",
   "execution_count": null,
   "metadata": {},
   "outputs": [],
   "source": []
  }
 ],
 "metadata": {
  "kernelspec": {
   "display_name": "Python 3",
   "language": "python",
   "name": "python3"
  },
  "language_info": {
   "codemirror_mode": {
    "name": "ipython",
    "version": 3
   },
   "file_extension": ".py",
   "mimetype": "text/x-python",
   "name": "python",
   "nbconvert_exporter": "python",
   "pygments_lexer": "ipython3",
   "version": "3.11.1 (tags/v3.11.1:a7a450f, Dec  6 2022, 19:58:39) [MSC v.1934 64 bit (AMD64)]"
  },
  "orig_nbformat": 4,
  "vscode": {
   "interpreter": {
    "hash": "ad0665b20a8e3f55a21bf4726f6eb7599e5e078c0d7c5bed50553642023e8e09"
   }
  }
 },
 "nbformat": 4,
 "nbformat_minor": 2
}
