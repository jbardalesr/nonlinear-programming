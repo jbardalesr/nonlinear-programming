{
 "cells": [
  {
   "cell_type": "code",
   "execution_count": 13,
   "metadata": {},
   "outputs": [],
   "source": [
    "from scipy.optimize import minimize\n",
    "import numpy.linalg as la\n",
    "import numpy as np\n"
   ]
  },
  {
   "attachments": {},
   "cell_type": "markdown",
   "metadata": {},
   "source": [
    "### Penalty"
   ]
  },
  {
   "attachments": {},
   "cell_type": "markdown",
   "metadata": {},
   "source": [
    "\\begin{align*}\n",
    "\\min_{\\mathbf x}\\quad&2x^2 + y^2 + z^2 - 20x -16y\\\\\n",
    "\\text{s.t}\\quad&x^2 + y^2 + z^3 \\le 1\\\\ \n",
    "&x+y-z=0\n",
    "\\end{align*}"
   ]
  },
  {
   "cell_type": "code",
   "execution_count": 14,
   "metadata": {},
   "outputs": [],
   "source": [
    "x_sol = [0.507251382811985, 0.300469991645678, 0.807721374457662]"
   ]
  },
  {
   "attachments": {},
   "cell_type": "markdown",
   "metadata": {},
   "source": [
    "**Scipy library**"
   ]
  },
  {
   "cell_type": "code",
   "execution_count": 15,
   "metadata": {},
   "outputs": [
    {
     "data": {
      "text/plain": [
       "array([0.50725139, 0.30046998, 0.80772137])"
      ]
     },
     "execution_count": 15,
     "metadata": {},
     "output_type": "execute_result"
    }
   ],
   "source": [
    "# Define la función objetivo\n",
    "objective = lambda x: 2 * x[0]**2 + x[1]**2 + x[2]**2 - 20 * x[0] - 16 * x[1]\n",
    "\n",
    "# Define las restricciones del problema\n",
    "constraints = [\n",
    "    {'type': 'ineq', 'fun': lambda x: 1 - x[0]**2 - x[1]**2 - x[2]**2},\n",
    "    {'type': 'eq', 'fun': lambda x: x[0] + x[1] - x[2]}\n",
    "]\n",
    "\n",
    "# Resuelve el problema de optimización\n",
    "res = minimize(objective, np.zeros(3), constraints=constraints)\n",
    "res.x\n"
   ]
  },
  {
   "attachments": {},
   "cell_type": "markdown",
   "metadata": {},
   "source": [
    "**Algorithm**"
   ]
  },
  {
   "cell_type": "code",
   "execution_count": 16,
   "metadata": {},
   "outputs": [],
   "source": [
    "def external_penalty(f, g, h, x, eps=1e-5, MAX_ITER=100):\n",
    "    print(f\"{0:02d}, {x}\")  # x[0]\n",
    "    phi = lambda y: max(0, y)**2\n",
    "    psi = lambda y: abs(y)**2\n",
    "    alpha = lambda x: phi(g(x)) + psi(h(x))\n",
    "    sub_problem = lambda x, u: f(x) + u * alpha(x)\n",
    "\n",
    "    u = 5\n",
    "    beta = 2\n",
    "\n",
    "    for k in range(1, MAX_ITER):\n",
    "        x = minimize(sub_problem, x, u).x\n",
    "        error = u * alpha(x)\n",
    "        print(f\"{k:02d}, {x}, {error:0.8f}\")\n",
    "        if error < eps:\n",
    "            break\n",
    "        else:\n",
    "            u = beta * u\n"
   ]
  },
  {
   "cell_type": "code",
   "execution_count": 17,
   "metadata": {},
   "outputs": [
    {
     "name": "stdout",
     "output_type": "stream",
     "text": [
      "00, [0. 0. 0.]\n",
      "01, [0.8271359  0.63769604 0.6544557 ], 4.63098804\n",
      "02, [0.70137073 0.50160154 0.72904548], 3.00249382\n",
      "03, [0.61728798 0.41287495 0.76980355], 1.77108055\n",
      "04, [0.56653121 0.36045002 0.78966208], 0.97596231\n",
      "05, [0.53814712 0.33155415 0.79902725], 0.51495343\n",
      "06, [0.52304363 0.31630924 0.80347651], 0.26492456\n",
      "07, [0.51523798 0.30846726 0.80562717], 0.13442600\n",
      "08, [0.51126793 0.30448843 0.80668168], 0.06771763\n",
      "09, [0.50926563 0.30248412 0.80720341], 0.03398673\n",
      "10, [0.50826018 0.30147809 0.80746283], 0.01702553\n",
      "11, [0.50775655 0.30097389 0.80759215], 0.00852080\n",
      "12, [0.50750479 0.30072114 0.80765665], 0.00426239\n",
      "13, [0.50737962 0.30059379 0.80768874], 0.00213156\n",
      "14, [0.5073187  0.30052811 0.80770446], 0.00106585\n",
      "15, [0.50729055 0.30049251 0.8077119 ], 0.00053291\n",
      "16, [0.50728079 0.30046955 0.80771477], 0.00026582\n",
      "17, [0.50728386 0.30044871 0.80771475], 0.00013338\n",
      "18, [0.50731453 0.30040366 0.80770928], 0.00006636\n",
      "19, [0.50738309 0.30031789 0.80769663], 0.00003155\n",
      "20, [0.50738161 0.3003166  0.80769694], 0.00000494\n"
     ]
    }
   ],
   "source": [
    "f = lambda x: 2 * x[0]**2 + x[1]**2 + x[2]**2 - 20 * x[0] - 16 * x[1]\n",
    "g = lambda x: x[0]**2 + x[1]**2 + x[2]**2 - 1\n",
    "h = lambda x: x[0] + x[1] - x[2]\n",
    "x = np.zeros(3)\n",
    "external_penalty(f, g, h, x)\n"
   ]
  },
  {
   "attachments": {},
   "cell_type": "markdown",
   "metadata": {},
   "source": [
    "### Barrier"
   ]
  },
  {
   "attachments": {},
   "cell_type": "markdown",
   "metadata": {},
   "source": [
    "\\begin{align*}\n",
    "\\min_{\\mathbf x}\\quad&2x^2+y^2\\\\\n",
    "\\text{s.t}\\quad&4x^2+y^2-2 \\le 0\\\\ \n",
    "&4x+y+1\\le0\n",
    "\\end{align*}"
   ]
  },
  {
   "cell_type": "code",
   "execution_count": 18,
   "metadata": {},
   "outputs": [],
   "source": [
    "f = lambda x: 2 * x[0]**2 + x[1]**2\n",
    "g = [lambda x: 4 * x[0]**2 + x[1]**2 - 2,\n",
    "     lambda x: 4 * x[0] + x[1] + 1]\n",
    "x_sol = [-2 / 9, -1 / 9]\n"
   ]
  },
  {
   "attachments": {},
   "cell_type": "markdown",
   "metadata": {},
   "source": [
    "**Scipy library**"
   ]
  },
  {
   "cell_type": "code",
   "execution_count": 19,
   "metadata": {},
   "outputs": [
    {
     "data": {
      "text/plain": [
       "array([-0.22222222, -0.11111111])"
      ]
     },
     "execution_count": 19,
     "metadata": {},
     "output_type": "execute_result"
    }
   ],
   "source": [
    "# Define la función objetivo\n",
    "# Define las restricciones del problema\n",
    "constraints = [{'type': 'ineq', 'fun': lambda x: -gi(x)} for gi in g]\n",
    "\n",
    "# Resuelve el problema de optimización\n",
    "res = minimize(f, np.zeros(2), constraints=constraints)\n",
    "res.x\n"
   ]
  },
  {
   "attachments": {},
   "cell_type": "markdown",
   "metadata": {},
   "source": [
    "**Scipy library**"
   ]
  },
  {
   "attachments": {},
   "cell_type": "markdown",
   "metadata": {},
   "source": [
    "\\begin{align*}\n",
    "\\min_{\\mathbf x}\\quad&{(x_1 - 2)}^4 + {(x_1 - 2x_2)}^2\\\\\n",
    "\\text{s.t}\\quad&x_1^2-x_2 \\le 0\n",
    "\\end{align*}"
   ]
  },
  {
   "cell_type": "code",
   "execution_count": 25,
   "metadata": {},
   "outputs": [],
   "source": [
    "f = lambda x: (x[0] - 2)**4 + (x[0] - 2 * x[1])**2\n",
    "g = [lambda x: -(x[0]**2 - x[1])]\n"
   ]
  },
  {
   "cell_type": "code",
   "execution_count": 26,
   "metadata": {},
   "outputs": [
    {
     "data": {
      "text/plain": [
       "array([1.97486175, 0.98741104])"
      ]
     },
     "execution_count": 26,
     "metadata": {},
     "output_type": "execute_result"
    }
   ],
   "source": [
    "# Define la función objetivo\n",
    "# Define las restricciones del problema\n",
    "constraints = [{'type': 'ineq', 'fun': lambda x: -gi(x)} for gi in g]\n",
    "\n",
    "# Resuelve el problema de optimización\n",
    "res = minimize(f, np.zeros(2), constraints=constraints)\n",
    "res.x\n"
   ]
  },
  {
   "cell_type": "code",
   "execution_count": 29,
   "metadata": {},
   "outputs": [],
   "source": [
    "def barrier_method(f, g, phi, x, u=10, beta=0.1, eps=1e-8, MAX_ITER=100):\n",
    "    B = lambda x: sum([phi(gi(x)) for gi in g])\n",
    "    sub_problem = lambda x, u: f(x) + u * B(x)\n",
    "    for k in range(1, MAX_ITER):\n",
    "        x = minimize(sub_problem, x, u).x\n",
    "        error = u * B(x)\n",
    "        print(f\"{k:02d}, {x}, {error:0.8f}\")\n",
    "        if abs(error) < eps:\n",
    "            break\n",
    "        else:\n",
    "            u = beta * u\n"
   ]
  },
  {
   "cell_type": "code",
   "execution_count": 40,
   "metadata": {},
   "outputs": [
    {
     "name": "stdout",
     "output_type": "stream",
     "text": [
      "01, [2.45645457 1.21745173], 0.41522055\n",
      "02, [2.23615197 1.11641971], 0.05149389\n",
      "03, [2.11680435 1.05818881], 0.00584339\n",
      "04, [2.05613485 1.028043  ], 0.00062507\n",
      "05, [2.02696278 1.01347877], 0.00006462\n",
      "06, [2.01607319 1.00803632], 0.00000654\n",
      "07, [2.01021679 1.00510836], 0.00000066\n",
      "08, [2.01021679 1.00510836], 0.00000007\n",
      "09, [2.01021679 1.00510836], 0.00000001\n"
     ]
    }
   ],
   "source": [
    "x = np.array([0, 1.0])\n",
    "u = 2\n",
    "beta = 0.1 \n",
    "phi_1 = lambda y: -1 / y\n",
    "phi_2 = lambda y: np.log(min(1, -y))\n",
    "# phi_3 = lambda y: -np.log(-y)\n",
    "barrier_method(f, g, phi_1, x, u, beta)\n"
   ]
  },
  {
   "cell_type": "code",
   "execution_count": 24,
   "metadata": {},
   "outputs": [
    {
     "data": {
      "text/plain": [
       "(1.97486175, 0.98741104)"
      ]
     },
     "execution_count": 24,
     "metadata": {},
     "output_type": "execute_result"
    }
   ],
   "source": [
    "1.97486175, 0.98741104"
   ]
  }
 ],
 "metadata": {
  "kernelspec": {
   "display_name": "Python 3",
   "language": "python",
   "name": "python3"
  },
  "language_info": {
   "codemirror_mode": {
    "name": "ipython",
    "version": 3
   },
   "file_extension": ".py",
   "mimetype": "text/x-python",
   "name": "python",
   "nbconvert_exporter": "python",
   "pygments_lexer": "ipython3",
   "version": "3.11.1 (tags/v3.11.1:a7a450f, Dec  6 2022, 19:58:39) [MSC v.1934 64 bit (AMD64)]"
  },
  "orig_nbformat": 4,
  "vscode": {
   "interpreter": {
    "hash": "ad0665b20a8e3f55a21bf4726f6eb7599e5e078c0d7c5bed50553642023e8e09"
   }
  }
 },
 "nbformat": 4,
 "nbformat_minor": 2
}
