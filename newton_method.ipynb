{
 "cells": [
  {
   "cell_type": "code",
   "execution_count": 1,
   "metadata": {},
   "outputs": [],
   "source": [
    "import numpy as np\n",
    "import numpy.linalg as la\n",
    "from typing import Callable\n",
    "import matplotlib.pyplot as plt\n",
    "import sympy as sp\n",
    "import pandas as pd\n",
    "pd.set_option(\"display.precision\", 8)\n"
   ]
  },
  {
   "cell_type": "markdown",
   "metadata": {},
   "source": [
    "# Newton Non-Linear equation "
   ]
  },
  {
   "cell_type": "markdown",
   "metadata": {},
   "source": [
    "$$f(\\mathbf x) = \\begin{bmatrix}3x_1 - \\cos{x_2 x_3} - 0.5\\\\x_1^2 - 81{(x_2 + 0.1)}^2 + \\sin{x_3} + 1.06\\\\e^{-x_1x_2} + 20x_3 + \\frac{10\\pi - 3}{3} \\end{bmatrix}$$"
   ]
  },
  {
   "cell_type": "code",
   "execution_count": 2,
   "metadata": {},
   "outputs": [],
   "source": [
    "# x0 = np.array([0.1, 0.1, 0.1])\n",
    "f0 = lambda x: np.array([3 * x[0] - np.cos(x[1] * x[2]) - 0.5,\n",
    "                         x[0]**2 - 81.0 * (x[1] + 0.1)**2 + np.sin(x[2]) + 1.06,\n",
    "                         np.e**(-x[0] * x[1]) + 20 * x[2] + (10 * np.pi - 3.0) / 3.0])\n",
    "\n",
    "df0 = lambda x: np.array([[3, x[2] * np.sin(x[1] * x[2]), x[1] * np.sin(x[1] * x[2])],\n",
    "                          [2 * x[0], -162 * (x[1] + 0.1), np.cos(x[2])],\n",
    "                          [-x[1] * np.e**(-x[0] * x[1]), -x[0] * np.e**(-x[0] * x[1]), 20]])\n"
   ]
  },
  {
   "cell_type": "code",
   "execution_count": 3,
   "metadata": {},
   "outputs": [],
   "source": [
    "def newton_method(f: Callable, df: Callable, x0: np.ndarray, MAX_ITER=100, tol=1e-8):\n",
    "    for k in range(1, MAX_ITER):\n",
    "        f_val = f(x0)\n",
    "        df_val = df(x0)\n",
    "        dx = np.linalg.solve(df_val, f_val)\n",
    "        x = x0 - dx\n",
    "        abs_err = la.norm(x - x0, np.inf)\n",
    "\n",
    "        print(f\"{k:02d} {x} {abs_err:0.8f}\")\n",
    "        if abs_err < tol:\n",
    "            return x\n",
    "        x0 = x.copy()\n",
    "    print(\"Too many iterations\")\n",
    "    return None\n"
   ]
  },
  {
   "cell_type": "code",
   "execution_count": 4,
   "metadata": {},
   "outputs": [
    {
     "name": "stdout",
     "output_type": "stream",
     "text": [
      "k  x[k]\t\t\t\t\t error absolute\n",
      "01 [ 0.91968721  0.46082246 -0.50338764] 1.50338764\n",
      "02 [ 0.50100049  0.18743348 -0.52086923] 0.41868673\n",
      "03 [ 0.50054294  0.06115345 -0.52200096] 0.12628002\n",
      "04 [ 0.50010444  0.01161711 -0.52329515] 0.04953635\n",
      "05 [ 0.50000551  0.00060562 -0.52358294] 0.01101149\n",
      "06 [ 0.50000002  0.00000183 -0.52359873] 0.00060379\n",
      "07 [ 0.5         0.         -0.52359878] 0.00000183\n",
      "08 [ 0.5        -0.         -0.52359878] 0.00000000\n"
     ]
    }
   ],
   "source": [
    "x0 = np.array([1.0, 1.0, 1.0])\n",
    "np.set_printoptions(precision=8, suppress=True)\n",
    "print(\"k  x[k]\\t\\t\\t\\t\\t error absolute\")\n",
    "newton_method(f0, df0, x0);\n"
   ]
  },
  {
   "cell_type": "code",
   "execution_count": 5,
   "metadata": {},
   "outputs": [],
   "source": [
    "A = np.array([[5, 0.5, -1],\n",
    "              [0.5, 2, 0.],\n",
    "              [-1., 0, 8.]])\n",
    "\n",
    "b = np.array([2, 3, -1.0])\n",
    "\n",
    "c = 10\n",
    "\n",
    "f = lambda x: np.dot(x, A @ x) + np.dot(b, x) + c\n",
    "df = lambda x: 2 * A @ x + b\n",
    "d2f = lambda x: 2 * A\n"
   ]
  },
  {
   "cell_type": "markdown",
   "metadata": {},
   "source": [
    "# Newton Optimization"
   ]
  },
  {
   "cell_type": "markdown",
   "metadata": {},
   "source": [
    "Iteración\n",
    "$$x_{k+1}=x_k - {[\\nabla ^2 f(x_k)]}^{-1} \\nabla  f(x_k)$$"
   ]
  },
  {
   "cell_type": "code",
   "execution_count": 6,
   "metadata": {},
   "outputs": [],
   "source": [
    "def newton_optimization(f: Callable, df: Callable, ddf: Callable, x: np.ndarray, MAX_ITER=100, tol=1e-7):\n",
    "    print(f\"{0:02d} {x}\")\n",
    "    for k in range(1, MAX_ITER):\n",
    "        # calculate gradient and hessian\n",
    "        gradient = df(x)\n",
    "        hessian = ddf(x)\n",
    "        # update step\n",
    "        x = x - la.inv(hessian) @ gradient\n",
    "        grad_err = la.norm(df(x), np.inf)\n",
    "        # print step\n",
    "        print(f\"{k:02d} {x} {grad_err:0.8f}\")\n",
    "        # stop criterion |∇f| = 0\n",
    "        if grad_err < tol:\n",
    "            return x\n",
    "    print(\"Too many iterations\")\n",
    "    return None\n"
   ]
  },
  {
   "cell_type": "markdown",
   "metadata": {},
   "source": [
    "# Laboratorio Semana 11: Método de Newton\n",
    "\n",
    "Aplicando el método de Newton Minimizar las siguientes funciones"
   ]
  },
  {
   "cell_type": "markdown",
   "metadata": {},
   "source": [
    "##### a) $f(\\mathbf x) = 7x_1^2 + 2x_1x_2 + x_2^2$"
   ]
  },
  {
   "cell_type": "code",
   "execution_count": 8,
   "metadata": {},
   "outputs": [
    {
     "name": "stdout",
     "output_type": "stream",
     "text": [
      "k  x[k]\t\terror |∇f|=0\n",
      "00 [-2.  2.]\n",
      "01 [-0.  0.] 0.00000000\n"
     ]
    }
   ],
   "source": [
    "fa = lambda x: 7 * x[0]**2 + 2 * x[0] * x[1] + x[1]**2\n",
    "dfa = lambda x: np.array([14 * x[0] + 2 * x[1], 2 * x[0] + 2 * x[1]])\n",
    "ddfa = lambda x: np.array([[14, 2],\n",
    "                           [2, 2.]])\n",
    "\n",
    "x0 = np.array([-2, 2.])\n",
    "print(\"k  x[k]\\t\\terror |∇f|=0\")\n",
    "newton_optimization(fa, dfa, ddfa, x0);\n"
   ]
  },
  {
   "cell_type": "markdown",
   "metadata": {},
   "source": [
    "##### b) $f(\\mathbf x)=x_{1}^{2} + x_{1} x_{2} + 2 x_{1} x_{3} + 4 x_{2}^{2} + x_{2} x_{3} + 4 x_{3}^{2}$"
   ]
  },
  {
   "cell_type": "code",
   "execution_count": 9,
   "metadata": {},
   "outputs": [
    {
     "name": "stdout",
     "output_type": "stream",
     "text": [
      "k  x[k]\t\terror |∇f|=0\n",
      "00 [1. 1. 1.]\n",
      "01 [0. 0. 0.] 0.00000000\n"
     ]
    }
   ],
   "source": [
    "fb = lambda x: x[0]**2 + x[0] * x[1] + 2 * x[0] * x[2] + 4 * x[1]**2 + x[1] * x[2] + 4 * x[2]**2\n",
    "dfb = lambda x: np.array([2 * x[0] + x[1] + 2 * x[2], x[0] + 8 * x[1] + x[2], 2 * x[0] + x[1] + 8 * x[2]])\n",
    "ddfb = lambda x: np.array([[2, 1, 2],\n",
    "                           [1, 8, 1],\n",
    "                           [2, 1, 8.]])\n",
    "                           \n",
    "x0 = np.array([1.0, 1.0, 1.0])\n",
    "print(\"k  x[k]\\t\\terror |∇f|=0\")\n",
    "newton_optimization(fb, dfb, ddfb, x0);\n"
   ]
  },
  {
   "cell_type": "markdown",
   "metadata": {},
   "source": [
    "##### c) $f(\\mathbf x)=4 \\left(x_{1} - 2\\right)^{4} + 2 \\left(x_{1} - 2 x_{2}\\right)^{2}$"
   ]
  },
  {
   "cell_type": "code",
   "execution_count": 10,
   "metadata": {},
   "outputs": [
    {
     "name": "stdout",
     "output_type": "stream",
     "text": [
      "k  x[k]\t\t\terror |∇f|=0\n",
      "00 [1.  1.2]\n",
      "01 [1.33333333 0.66666667] 4.74074074\n",
      "02 [1.55555556 0.77777778] 1.40466392\n",
      "03 [1.7037037  0.85185185] 0.41619672\n",
      "04 [1.80246914 0.90123457] 0.12331755\n",
      "05 [1.86831276 0.93415638] 0.03653853\n",
      "06 [1.9122085  0.95610425] 0.01082623\n",
      "07 [1.94147234 0.97073617] 0.00320777\n",
      "08 [1.96098156 0.98049078] 0.00095045\n",
      "09 [1.97398771 0.98699385] 0.00028162\n",
      "10 [1.98265847 0.99132924] 0.00008344\n",
      "11 [1.98843898 0.99421949] 0.00002472\n",
      "12 [1.99229265 0.99614633] 0.00000733\n",
      "13 [1.99486177 0.99743088] 0.00000217\n",
      "14 [1.99657451 0.99828726] 0.00000064\n",
      "15 [1.99771634 0.99885817] 0.00000019\n",
      "16 [1.99847756 0.99923878] 0.00000006\n"
     ]
    }
   ],
   "source": [
    "fc = lambda x: 4 * (x[0] - 2)**4 + 2 * (x[0] - 2 * x[1])**2\n",
    "dfc = lambda x: np.array([4 * x[0] - 8 * x[1] + 16 * (x[0] - 2)**3, -8 * x[0] + 16 * x[1]])\n",
    "ddfc = lambda x: np.array([[48 * (x[0] - 2)**2 + 4, -8],\n",
    "                           [-8, 16]])\n",
    "x0 = np.array([1.0, 1.2])\n",
    "print(\"k  x[k]\\t\\t\\terror |∇f|=0\")\n",
    "newton_optimization(fc, dfc, ddfc, x0);\n"
   ]
  },
  {
   "cell_type": "markdown",
   "metadata": {},
   "source": [
    "##### d) $f(\\mathbf x)=\\left(x_{1} - 2\\right)^{4} + \\left(x_{1} - x_{2}\\right)^{2}$\n"
   ]
  },
  {
   "cell_type": "code",
   "execution_count": 11,
   "metadata": {},
   "outputs": [
    {
     "name": "stdout",
     "output_type": "stream",
     "text": [
      "k  x[k]\t\t\terror |∇f|=0\n",
      "00 [1.  1.2]\n",
      "01 [1.33333333 1.33333333] 1.18518519\n",
      "02 [1.55555556 1.55555556] 0.35116598\n",
      "03 [1.7037037 1.7037037] 0.10404918\n",
      "04 [1.80246914 1.80246914] 0.03082939\n",
      "05 [1.86831276 1.86831276] 0.00913463\n",
      "06 [1.9122085 1.9122085] 0.00270656\n",
      "07 [1.94147234 1.94147234] 0.00080194\n",
      "08 [1.96098156 1.96098156] 0.00023761\n",
      "09 [1.97398771 1.97398771] 0.00007040\n",
      "10 [1.98265847 1.98265847] 0.00002086\n",
      "11 [1.98843898 1.98843898] 0.00000618\n",
      "12 [1.99229265 1.99229265] 0.00000183\n",
      "13 [1.99486177 1.99486177] 0.00000054\n",
      "14 [1.99657451 1.99657451] 0.00000016\n",
      "15 [1.99771634 1.99771634] 0.00000005\n"
     ]
    }
   ],
   "source": [
    "fd = lambda x: (x[0] - 2)**4 + (x[0] - x[1])**2\n",
    "dfd = lambda x: np.array([2 * x[0] - 2 * x[1] + 4 * (x[0] - 2)**3, -2 * x[0] + 2 * x[1]])\n",
    "ddfd = lambda x: np.array([[12 * (x[0] - 2)**2 + 2, -2], [-2, 2]])\n",
    "\n",
    "x0 = np.array([1.0, 1.2])\n",
    "print(\"k  x[k]\\t\\t\\terror |∇f|=0\")\n",
    "newton_optimization(fd, dfd, ddfd, x0);\n"
   ]
  },
  {
   "cell_type": "markdown",
   "metadata": {},
   "source": [
    "##### e) $f(\\mathbf x)=x_{1}^{4} + \\left(x_{1} + x_{2}\\right)^{2} + \\left(e^{x_{2}} - 1\\right)^{2}$\n"
   ]
  },
  {
   "cell_type": "code",
   "execution_count": 12,
   "metadata": {},
   "outputs": [
    {
     "name": "stdout",
     "output_type": "stream",
     "text": [
      "k  x[k]\t\t\terror |∇f|=0\n",
      "00 [1.  1.2]\n",
      "01 [0.46786411 0.72495126] 6.78176767\n",
      "02 [0.03509768 0.32846156] 1.80715549\n",
      "03 [-0.10836193  0.10933579] 0.25971898\n",
      "04 [-0.02164563  0.01808097] 0.03002732\n",
      "05 [-0.00055387  0.00051486] 0.00095250\n",
      "06 [-0.0000004  0.0000004] 0.00000079\n",
      "07 [-0.  0.] 0.00000000\n"
     ]
    }
   ],
   "source": [
    "fe = lambda x: x[0]**4 + (x[0] + x[1])**2 + (np.exp(x[1]) - 1)**2\n",
    "dfe = lambda x: np.array([4 * x[0]**3 + 2 * x[0] + 2 * x[1], 2 * x[0] + 2 * x[1] + 2 * (np.exp(x[1]) - 1) * np.exp(x[1])])\n",
    "ddfe = lambda x: np.array([[12 * x[0]**2 + 2, 2],\n",
    "                           [2, 2 * (np.exp(x[1]) - 1) * np.exp(x[1]) + 2 * np.exp(2 * x[1]) + 2]])\n",
    "\n",
    "x0 = np.array([1.0, 1.2])\n",
    "print(\"k  x[k]\\t\\t\\terror |∇f|=0\")\n",
    "newton_optimization(fe, dfe, ddfe, x0);\n"
   ]
  },
  {
   "cell_type": "markdown",
   "metadata": {},
   "source": [
    "##### f) $f(\\mathbf x)=\\frac{3 x_{1}^{2}}{2} + x_{1} x_{3} - x_{1} + 2 x_{2}^{2} + 2 x_{2} x_{3} - x_{2} + \\frac{3 x_{3}^{2}}{2} - x_{3} + 3$\n"
   ]
  },
  {
   "cell_type": "code",
   "execution_count": 19,
   "metadata": {},
   "outputs": [
    {
     "name": "stdout",
     "output_type": "stream",
     "text": [
      "k  x[k]\t\terror |∇f|=0\n",
      "00 [1. 1. 1.]\n",
      "01 [0.3 0.2 0.1] 0.00000000\n"
     ]
    }
   ],
   "source": [
    "ff = lambda x: 3 * x[0]**2 / 2 + x[0] * x[2] - x[0] + 2 * x[1]**2 + 2 * x[1] * x[2] - x[1] + 3 * x[2]**2 / 2 - x[2] + 3\n",
    "dff = lambda x: np.array([3 * x[0] + x[2] - 1, 4 * x[1] + 2 * x[2] - 1, x[0] + 2 * x[1] + 3 * x[2] - 1])\n",
    "ddff = lambda x: np.array([[3, 0, 1],\n",
    "                           [0, 4, 2],\n",
    "                           [1, 2, 3]])\n",
    "\n",
    "x0 = np.array([1.0, 1.0, 1.0])\n",
    "print(\"k  x[k]\\t\\terror |∇f|=0\")\n",
    "newton_optimization(ff, dff, ddff, x0);\n"
   ]
  },
  {
   "cell_type": "markdown",
   "metadata": {},
   "source": [
    "##### g) $f(\\mathbf x)=- 2 e^{- \\left(x_{1} - 1\\right)^{2} - \\left(x_{2} - 1\\right)^{2}}$"
   ]
  },
  {
   "cell_type": "code",
   "execution_count": 25,
   "metadata": {},
   "outputs": [
    {
     "name": "stdout",
     "output_type": "stream",
     "text": [
      "k  x[k]\t\terror |∇f|=0\n",
      "00 [ 1. -1.]\n",
      "01 [ 1.         -1.28571429] 0.04921697\n",
      "02 [ 1.         -1.52761493] 0.01698768\n",
      "03 [ 1.         -1.74222563] 0.00594778\n",
      "04 [ 1.         -1.93754637] 0.00210107\n",
      "05 [ 1.         -2.11822553] 0.00074676\n",
      "06 [ 1.         -2.28726564] 0.00026660\n",
      "07 [ 1.         -2.44674695] 0.00009550\n",
      "08 [ 1.         -2.59818489] 0.00003431\n",
      "09 [ 1.        -2.7427259] 0.00001235\n",
      "10 [ 1.         -2.88126331] 0.00000445\n",
      "11 [ 1.         -3.01450997] 0.00000161\n",
      "12 [ 1.         -3.14304593] 0.00000058\n",
      "13 [ 1.         -3.26735101] 0.00000021\n",
      "14 [ 1.         -3.38782765] 0.00000008\n"
     ]
    }
   ],
   "source": [
    "fg = lambda x: -2 * np.exp(-(x[0] - 1)**2 - (x[1] - 1)**2)\n",
    "dfg = lambda x: np.array([-2 * (2 - 2 * x[0]) * np.exp(-(x[0] - 1)**2 - (x[1] - 1)**2), -2 * (2 - 2 * x[1]) * np.exp(-(x[0] - 1)**2 - (x[1] - 1)**2)])\n",
    "ddfg = lambda x: np.array([[-2 * (2 - 2 * x[0])**2 * np.exp(-(x[0] - 1)**2 - (x[1] - 1)**2) + 4 * np.exp(-(x[0] - 1)**2 - (x[1] - 1)**2), -2 * (2 - 2 * x[0]) * (2 - 2 * x[1]) * np.exp(-(x[0] - 1)**2 - (x[1] - 1)**2)],\n",
    "                           [-2 * (2 - 2 * x[0]) * (2 - 2 * x[1]) * np.exp(-(x[0] - 1)**2 - (x[1] - 1)**2), -2 * (2 - 2 * x[1])**2 * np.exp(-(x[0] - 1)**2 - (x[1] - 1)**2) + 4 * np.exp(-(x[0] - 1)**2 - (x[1] - 1)**2)]])\n",
    "\n",
    "x0 = np.array([1.0, -1.0])\n",
    "print(\"k  x[k]\\t\\terror |∇f|=0\")\n",
    "newton_optimization(fg, dfg, ddfg, x0);\n"
   ]
  }
 ],
 "metadata": {
  "kernelspec": {
   "display_name": "Python 3.10.8 64-bit",
   "language": "python",
   "name": "python3"
  },
  "language_info": {
   "codemirror_mode": {
    "name": "ipython",
    "version": 3
   },
   "file_extension": ".py",
   "mimetype": "text/x-python",
   "name": "python",
   "nbconvert_exporter": "python",
   "pygments_lexer": "ipython3",
   "version": "3.10.8"
  },
  "orig_nbformat": 4,
  "vscode": {
   "interpreter": {
    "hash": "590f4a299ae404e723bbc5f32e9a7b98b836c3c65ce9112bc934ac92a06ceee3"
   }
  }
 },
 "nbformat": 4,
 "nbformat_minor": 2
}
