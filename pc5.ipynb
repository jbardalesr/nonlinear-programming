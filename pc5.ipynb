{
 "cells": [
  {
   "attachments": {},
   "cell_type": "markdown",
   "metadata": {},
   "source": [
    "# Métodos de punto interior\n",
    "Los métodos de punto interior permiten resolver problemas de la forma \n",
    "\n",
    "\n",
    "\\begin{align*}\n",
    "\\min &f_0(x)\\\\\n",
    "\\text{s.t.} &f_i(x) \\ge 0, i = 1,\\dots,m\\\\\n",
    "&Ax=b\n",
    "\\end{align*}\n",
    "\n",
    "Donde $f_0, \\dots, f_m:\\mathbb R^n \\rightarrow \\mathbb R$ son convexas y de clase $\\mathcal C^2$, y $A\\in \\mathbb R^{p\\times n}$ con $\\text{rango}(A)=p<n$\n",
    "\n",
    "Aplicando el método de newton a una secuencia de problemas con restricciones de igualdad o a una secuencia de versiones modificadas de las condiciones KKT."
   ]
  },
  {
   "cell_type": "code",
   "execution_count": 29,
   "metadata": {},
   "outputs": [],
   "source": [
    "# imports\n",
    "import numpy as np\n",
    "import sympy as sp\n",
    "from IPython.display import display_latex, Latex\n"
   ]
  },
  {
   "attachments": {},
   "cell_type": "markdown",
   "metadata": {},
   "source": [
    "**Ejemplo** \n",
    "\n",
    "Implementar el método de la barrera, y primal-dual para resolver el problema cuadrático sin restricciones de igualdad\n",
    "\n",
    "\n",
    "\\begin{align*}\n",
    "\\min &\\frac{1}{2} x^TPx + q^T x\\\\\n",
    "\\text{s.t.} &Ax \\le b\n",
    "\\end{align*}\n",
    "\n",
    "Con $A\\in \\mathbb R^{m\\times n}$"
   ]
  },
  {
   "cell_type": "code",
   "execution_count": 30,
   "metadata": {},
   "outputs": [],
   "source": [
    "n = 2\n",
    "m = 6\n",
    "A = np.random.rand(m, n)\n",
    "b = np.random.rand(m)\n",
    "\n",
    "P = np.diag(np.random.random(n))\n",
    "q = np.random.rand(n)\n",
    "x = np.random.rand(n)\n"
   ]
  },
  {
   "cell_type": "code",
   "execution_count": 31,
   "metadata": {},
   "outputs": [
    {
     "data": {
      "text/latex": [
       "$\\text{min}\\frac{1}{2}x^T\\left[\\begin{matrix}0.69727 & 0\\\\0 & 0.65555\\end{matrix}\\right]x + \\left[\\begin{matrix}0.60849\\\\0.56228\\end{matrix}\\right]x$"
      ]
     },
     "metadata": {},
     "output_type": "display_data"
    },
    {
     "data": {
      "text/latex": [
       "$\\text{s.t. }\\left[\\begin{matrix}0.60275 & 0.85692\\\\0.64667 & 0.1177\\\\0.43845 & 0.89765\\\\0.87934 & 0.00072667\\\\0.861 & 0.23564\\\\0.65586 & 0.84401\\end{matrix}\\right]\\left[\\begin{matrix}x_{1}\\\\x_{2}\\\\x_{3}\\end{matrix}\\right] \\le \\left[\\begin{matrix}0.76005\\\\0.46628\\\\0.34931\\\\0.12563\\\\0.47651\\\\0.44038\\end{matrix}\\right]$"
      ]
     },
     "metadata": {},
     "output_type": "display_data"
    }
   ],
   "source": [
    "x1, x2, x3 = sp.symbols(\"x1, x2, x3\")\n",
    "x_sym = sp.Matrix([x1, x2, x3])\n",
    "\n",
    "display_latex(Latex(f\"$\\\\text{{min}}\\\\frac{{1}}{{2}}x^T{sp.latex(sp.N(sp.Matrix(P), 5))}x + {sp.latex(sp.N(sp.Matrix(q), 5))}x$\"))\n",
    "display_latex(Latex(f\"$\\\\text{{s.t. }}{sp.latex(sp.N(sp.Matrix(A), 5))}{sp.latex(x_sym)} \\le {sp.latex(sp.N(sp.Matrix(b), 5))}$\"))\n"
   ]
  },
  {
   "attachments": {},
   "cell_type": "markdown",
   "metadata": {},
   "source": [
    "### Método de la barrera\n",
    "\n",
    "Se basa en resolver una secuencia de problemas de minimización sin restricciones (o con restricciones lineales), utilizando el último punto encontrado como punto de partida para el siguiente problema de minimización sin restricciones."
   ]
  },
  {
   "attachments": {},
   "cell_type": "markdown",
   "metadata": {},
   "source": [
    "#### Algoritmo 1: resolviendo un sub-problema "
   ]
  },
  {
   "cell_type": "code",
   "execution_count": 46,
   "metadata": {},
   "outputs": [],
   "source": [
    "from scipy.optimize import minimize\n",
    "\n",
    "\n",
    "def barrier_method_original(f, g, x, t=2, nu=2, eps=1e-6, MAX_ITER=100):\n",
    "    phi = lambda x: -sum([np.log(-gi(x)) for gi in g])\n",
    "    m = len(g)\n",
    "    sub_problem = lambda x, t: t * f(x) + phi(x)\n",
    "    for k in range(1, MAX_ITER):\n",
    "        x = minimize(sub_problem, x, t).x\n",
    "        error = m / t\n",
    "        print(f\"{k:02d}, {x}, {error:0.8f}\")\n",
    "        if abs(error) < eps:\n",
    "            return x\n",
    "        t = nu * t\n"
   ]
  },
  {
   "cell_type": "code",
   "execution_count": 47,
   "metadata": {},
   "outputs": [
    {
     "name": "stdout",
     "output_type": "stream",
     "text": [
      "iter\tbrecha de dualidad\n",
      "01, [-1.73037215 -2.03170212], 3.00000000\n",
      "02, [-1.39767503 -1.57631755], 1.50000000\n",
      "03, [-1.18024345 -1.27870456], 0.75000000\n",
      "04, [-1.04486652 -1.09340527], 0.37500000\n",
      "05, [-0.96528782 -0.98448068], 0.18750000\n",
      "06, [-0.92101799 -0.92388564], 0.09375000\n",
      "07, [-0.89742752 -0.89159583], 0.04687500\n",
      "08, [-0.8852083  -0.87487056], 0.02343750\n",
      "09, [-0.87898344 -0.86635015], 0.01171875\n",
      "10, [-0.87584088 -0.86204875], 0.00585938\n",
      "11, [-0.87426195 -0.85988754], 0.00292969\n",
      "12, [-0.8734705  -0.85880425], 0.00146484\n",
      "13, [-0.8730743  -0.85826193], 0.00073242\n",
      "14, [-0.87287605 -0.8579906 ], 0.00036621\n",
      "15, [-0.87277692 -0.8578549 ], 0.00018311\n",
      "16, [-0.87272735 -0.85778704], 0.00009155\n",
      "17, [-0.87270253 -0.85775312], 0.00004578\n",
      "18, [-0.87269016 -0.85773614], 0.00002289\n",
      "19, [-0.87268395 -0.85772765], 0.00001144\n",
      "20, [-0.87268085 -0.85772341], 0.00000572\n",
      "21, [-0.8726793  -0.85772128], 0.00000286\n",
      "22, [-0.87267853 -0.85772022], 0.00000143\n",
      "23, [-0.87267815 -0.85771972], 0.00000072\n",
      "x_opt = [-0.87267815 -0.85771972]\n"
     ]
    }
   ],
   "source": [
    "f = lambda x: 0.5 * np.dot(x, P @ x) + np.dot(q, x)\n",
    "g = [lambda x: np.dot(A[i], x) - b[i] for i in range(len(A))]\n",
    "x0 = np.zeros(n)\n",
    "print(\"iter\\tbrecha de dualidad\")\n",
    "x_opt = barrier_method_original(f, g, x0)\n",
    "print(f\"x_opt = {x_opt}\")\n"
   ]
  },
  {
   "attachments": {},
   "cell_type": "markdown",
   "metadata": {},
   "source": [
    "#### Algoritmo 2: resolviendo un sistema lineal de ecuaciones"
   ]
  },
  {
   "attachments": {},
   "cell_type": "markdown",
   "metadata": {},
   "source": [
    "En el método de barrera, el paso de Newton $\\Delta x_{n t}$, y la variable dual asociada están dadas por las ecuaciones lineales\n",
    "$$\n",
    "\\left[\\begin{array}{cc}\n",
    "t \\nabla^2 f_0(x)+\\nabla^2 \\phi(x) & A^T \\\\\n",
    "A & 0\n",
    "\\end{array}\\right]\\left[\\begin{array}{c}\n",
    "\\Delta x_{\\mathrm{nt}} \\\\\n",
    "\\nu_{\\mathrm{nt}}\n",
    "\\end{array}\\right]=-\\left[\\begin{array}{c}\n",
    "t \\nabla f_0(x)+\\nabla \\phi(x) \\\\\n",
    "0\n",
    "\\end{array}\\right]\n",
    "$$\n",
    "En esta sección mostramos cómo estos pasos de Newton para el problema de centrado pueden interpretarse como pasos de Newton para resolver directamente las ecuaciones KKT modificadas\n",
    "$$\n",
    "\\begin{aligned}\n",
    "\\nabla f_0(x)+\\sum_{i=1}^m \\lambda_i \\nabla f_i(x)+A^T \\nu & =0 \\\\\n",
    "-\\lambda_i f_i(x) & =1 / t, \\quad i=1, \\ldots, m \\\\\n",
    "A x & =b\n",
    "\\end{aligned}\n",
    "$$"
   ]
  },
  {
   "cell_type": "code",
   "execution_count": 34,
   "metadata": {},
   "outputs": [],
   "source": [
    "def barrier_method(P, q, A, b, m, n, TOL=1e-3, NTTOL=1e-6):\n",
    "    \"\"\"\n",
    "    A in R^mxn\n",
    "    \"\"\"\n",
    "    MAXITERS = 200\n",
    "    ALPHA = 0.01\n",
    "    BETA = 0.5\n",
    "    MU = 20\n",
    "    x = np.zeros(n)\n",
    "    t = 1\n",
    "    for iter in range(MAXITERS):\n",
    "        y = -(A @ x - b)\n",
    "        val = t * (0.5 * np.dot(x, P @ x) + np.dot(q, x)) - np.sum(np.log(y))\n",
    "        grad = t * (P @ x + q) + A.T @ (1 / y)\n",
    "        hess = t * P + A.T @ np.diag(1 / y ** 2) @ A\n",
    "        v = np.linalg.solve(-hess, grad)\n",
    "        fprime = np.dot(grad, v)\n",
    "        s = 1\n",
    "        dy = -A @ v\n",
    "        while min(y + s * dy) <= 0:\n",
    "            s = BETA * s\n",
    "        while (t * (0.5 * np.dot(x + s * v, P @ (x + s * v)) + np.dot(q, x + s * v)) - np.sum(np.log(y + s * dy)) >= val + ALPHA * s * fprime):\n",
    "            s = BETA * s\n",
    "        x = x + s * v\n",
    "        if -fprime < NTTOL:\n",
    "            gap = m / t\n",
    "            print(f\"{iter:02d}\\t{gap}\")\n",
    "            if gap < TOL:\n",
    "                break\n",
    "            t = MU * t\n",
    "    return x\n"
   ]
  },
  {
   "cell_type": "code",
   "execution_count": 35,
   "metadata": {},
   "outputs": [
    {
     "name": "stdout",
     "output_type": "stream",
     "text": [
      "iter\tbrecha de dualidad\n",
      "06\t6.0\n",
      "09\t0.3\n",
      "12\t0.015\n",
      "14\t0.00075\n",
      "x_opt = [-0.87323781 -0.85805794]\n"
     ]
    }
   ],
   "source": [
    "print(\"iter\\tbrecha de dualidad\")\n",
    "x_opt = barrier_method(P, q, A, b, m, n)\n",
    "print(f\"x_opt = {x_opt}\")\n"
   ]
  },
  {
   "attachments": {},
   "cell_type": "markdown",
   "metadata": {},
   "source": [
    "### Método primal-dual\n",
    "\n",
    "Los métodos primarios de doble punto interior son muy similares al método de barrera, con algunas diferencias."
   ]
  },
  {
   "attachments": {},
   "cell_type": "markdown",
   "metadata": {},
   "source": [
    "\n",
    "$$\n",
    "\\left[\\begin{array}{cc}\n",
    "H & A^T \\\\\n",
    "A & 0\n",
    "\\end{array}\\right]\\left[\\begin{array}{c}\n",
    "\\Delta x_{\\mathrm{nt}} \\\\\n",
    "\\nu_{\\mathrm{nt}}\n",
    "\\end{array}\\right]=-\\left[\\begin{array}{l}\n",
    "g \\\\\n",
    "0\n",
    "\\end{array}\\right]\n",
    "$$\n",
    "donde\n",
    "\\begin{align*}\n",
    "H&=t \\nabla^2 f_0(x)+\\sum_{i=1}^m \\frac{1}{f_i(x)^2} \\nabla f_i(x) \\nabla f_i(x)^T+\\sum_{i=1}^m \\frac{1}{-f_i(x)} \\nabla^2 f_i(x)\\\\\n",
    "g&= t\\nabla f_0(x)+\\sum_{i=1}^m\\frac{1}{-f_i(x)}\\nabla f_i(x)\n",
    "\\end{align*}"
   ]
  },
  {
   "cell_type": "code",
   "execution_count": 36,
   "metadata": {},
   "outputs": [],
   "source": [
    "def primal_dual_method(P, q, A, b, m, n, TOL=1e-3, NTTOL=1e-6):\n",
    "    MAXITERS = 200\n",
    "    TOL = 1e-6\n",
    "    RESTOL = 1e-8\n",
    "    MU = 10\n",
    "    ALPHA = 0.01\n",
    "    BETA = 0.5\n",
    "    x = np.zeros(n)\n",
    "    s = b - A @ x\n",
    "    z = 1 / s\n",
    "    for iters in range(MAXITERS):\n",
    "        gap = np.dot(s, z)\n",
    "        print(f\"{iters:02d}\\t{gap}\")\n",
    "        res = P @ x + q + A.T @ z\n",
    "        if gap < TOL and np.linalg.norm(res) < RESTOL:\n",
    "            break\n",
    "        tinv = gap / (m * MU)\n",
    "        sol = -np.linalg.solve(np.r_[(np.c_[P, A.T], np.c_[A, np.diag(-s / z)])],\n",
    "                               np.r_[P @ x + q + A.T @ z,\n",
    "                                     -s + tinv * (1 / z)])\n",
    "        dx = sol[:n]\n",
    "        dz = sol[n: n + m]\n",
    "        ds = -A @ dx\n",
    "\n",
    "        r = np.r_[P @ x + q + A.T @ z,\n",
    "                  z * s - tinv]\n",
    "\n",
    "        step = min(1.0, 0.99 / max(-dz / z))\n",
    "        while (np.min(s + step * ds) <= 0):\n",
    "            step = BETA * step\n",
    "\n",
    "        newz = z + step * dz\n",
    "        newx = x + step * dx\n",
    "        news = s + step * ds\n",
    "        newr = np.r_[P @ newx + q + A.T @ newz,\n",
    "                     newz * news - tinv]\n",
    "        while (np.linalg.norm(newr) > (1 - ALPHA * step) * np.linalg.norm(r)):\n",
    "            step = BETA * step\n",
    "            newz = z + step * dz\n",
    "            newx = x + step * dx\n",
    "            news = s + step * ds\n",
    "            newr = np.r_[P @ newx + q + A.T @ newz,\n",
    "                         newz * news - tinv]\n",
    "\n",
    "        x = x + step * dx\n",
    "        z = z + step * dz\n",
    "        s = b - A @ x\n",
    "    return x\n"
   ]
  },
  {
   "cell_type": "code",
   "execution_count": 37,
   "metadata": {},
   "outputs": [
    {
     "name": "stdout",
     "output_type": "stream",
     "text": [
      "iter\tbrecha de dualidad\n",
      "00\t6.0\n",
      "01\t0.6320226693748787\n",
      "02\t0.17301415088653915\n",
      "03\t0.08419472685667566\n",
      "04\t0.011422752111251986\n",
      "05\t0.0015228008409967602\n",
      "06\t9.287008649583438e-05\n",
      "07\t9.291292353856054e-06\n",
      "08\t9.29165810267434e-07\n",
      "x_opt = [-0.87267845 -0.85771958]\n"
     ]
    }
   ],
   "source": [
    "print(\"iter\\tbrecha de dualidad\")\n",
    "x_opt = primal_dual_method(P, q, A, b, m, n)\n",
    "print(f\"x_opt = {x_opt}\")\n"
   ]
  }
 ],
 "metadata": {
  "kernelspec": {
   "display_name": "Python 3",
   "language": "python",
   "name": "python3"
  },
  "language_info": {
   "codemirror_mode": {
    "name": "ipython",
    "version": 3
   },
   "file_extension": ".py",
   "mimetype": "text/x-python",
   "name": "python",
   "nbconvert_exporter": "python",
   "pygments_lexer": "ipython3",
   "version": "3.11.1 (tags/v3.11.1:a7a450f, Dec  6 2022, 19:58:39) [MSC v.1934 64 bit (AMD64)]"
  },
  "orig_nbformat": 4,
  "vscode": {
   "interpreter": {
    "hash": "ad0665b20a8e3f55a21bf4726f6eb7599e5e078c0d7c5bed50553642023e8e09"
   }
  }
 },
 "nbformat": 4,
 "nbformat_minor": 2
}
